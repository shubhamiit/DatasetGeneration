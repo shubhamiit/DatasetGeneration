{
 "cells": [
  {
   "cell_type": "code",
   "execution_count": 1,
   "id": "94aec919",
   "metadata": {},
   "outputs": [],
   "source": [
    "import os\n",
    "# Azure OpenAI keys\n",
    "os.environ[\"OPENAI_API_TYPE\"] = \"azure\"\n",
    "os.environ[\"OPENAI_API_VERSION\"] = \"2023-03-15-preview\"\n",
    "os.environ[\"OPENAI_API_BASE\"] = \"https://adhoc-south-central-us.openai.azure.com/\"\n",
    "os.environ[\"OPENAI_API_KEY\"] = \"f9f14bee8b8b47b0a25ed553832017ef\"\n",
    "os.environ[\"SERPAPI_API_KEY\"] = \"dc8560acaac2ef0a43805d078fff52b94480571b43fe894344318692e963570c\"\n",
    "DEPLOYMENT = \"gpt-4\"\n",
    "MODEL = \"gpt-4\"\n",
    "TEMPERATURE = 0"
   ]
  },
  {
   "cell_type": "code",
   "execution_count": 2,
   "id": "468eba73",
   "metadata": {},
   "outputs": [
    {
     "name": "stderr",
     "output_type": "stream",
     "text": [
      "C:\\Users\\sonishubham\\Anaconda3\\envs\\auto-gpt-2\\lib\\site-packages\\numpy\\_distributor_init.py:30: UserWarning: loaded more than 1 DLL from .libs:\n",
      "C:\\Users\\sonishubham\\Anaconda3\\envs\\auto-gpt-2\\lib\\site-packages\\numpy\\.libs\\libopenblas.fb5ae2tyxyh2ijrdkgdgq3xbklktf43h.gfortran-win_amd64.dll\n",
      "C:\\Users\\sonishubham\\Anaconda3\\envs\\auto-gpt-2\\lib\\site-packages\\numpy\\.libs\\libopenblas64__v0.3.21-gcc_10_3_0.dll\n",
      "  warnings.warn(\"loaded more than 1 DLL from .libs:\"\n"
     ]
    }
   ],
   "source": [
    "# import text loader to \n",
    "from langchain.document_loaders.word_document import Docx2txtLoader\n",
    "\n",
    "from langchain.chains import RetrievalQA\n",
    "from langchain.chat_models import AzureChatOpenAI\n",
    "from langchain.document_loaders import CSVLoader\n",
    "from langchain.vectorstores import DocArrayInMemorySearch\n",
    "from IPython.display import display, Markdown"
   ]
  },
  {
   "cell_type": "code",
   "execution_count": 3,
   "id": "4e2089c1",
   "metadata": {},
   "outputs": [
    {
     "name": "stdout",
     "output_type": "stream",
     "text": [
      "BuildKeyNotes\\BRK214H.docx\n",
      "BuildKeyNotes\\BRK223H.docx\n",
      "BuildKeyNotes\\BRKFP303.docx\n",
      "BuildKeyNotes\\KEY01H.docx\n",
      "BuildKeyNotes\\KEY02H.docx\n"
     ]
    }
   ],
   "source": [
    "## Get all filepaths inside BuildKeyNotes Folder\n",
    "import os\n",
    "\n",
    "def get_filepaths(folder_path):\n",
    "    file_paths = []\n",
    "    for root, directories, files in os.walk(folder_path):\n",
    "        for filename in files:\n",
    "            file_path = os.path.join(root, filename)\n",
    "            file_paths.append(file_path)\n",
    "    return file_paths\n",
    "\n",
    "# Provide the folder path\n",
    "folder_path = \"BuildKeyNotes\"\n",
    "\n",
    "# Call the function to get the file paths\n",
    "filepaths = get_filepaths(folder_path)\n",
    "# Print the file paths\n",
    "for filepath in filepaths:\n",
    "    print(filepath)"
   ]
  },
  {
   "cell_type": "code",
   "execution_count": 4,
   "id": "dfb58efd",
   "metadata": {},
   "outputs": [],
   "source": [
    "loader = Docx2txtLoader(file_path=\"BuildKeyNotes\\BRK214H.docx\")"
   ]
  },
  {
   "cell_type": "code",
   "execution_count": 5,
   "id": "9ad5f0be",
   "metadata": {},
   "outputs": [],
   "source": [
    "docs = loader.load_and_split()"
   ]
  },
  {
   "cell_type": "code",
   "execution_count": 6,
   "id": "84eda664",
   "metadata": {},
   "outputs": [
    {
     "data": {
      "text/plain": [
       "[Document(page_content=\"Omkar\\n\\nS.no\\n\\nQuestion\\n\\nTprompt\\n\\nTitle + NoAgent\\n\\nTitle Index  + Agent\\n\\nSummary Index + Agent\\n\\n1\\n\\nHow do I stop billing on my azureml Compute Instance?\\n\\nIncorrect\\n\\n3\\n\\n1\\n\\n2\\n\\n2\\n\\nHow do I deploy an AzureML Model?\\n\\nIncorrect\\n\\n3\\n\\n2\\n\\n1\\n\\n3\\n\\nHow can I get started with Azure Machine Learning Studio? \\n\\n1\\n\\n4\\n\\n3\\n\\n2\\n\\n4\\n\\nHow do I deploy mlflow models to an online endpoint?\\n\\n1\\n\\n4\\n\\n3\\n\\n2\\n\\n5\\n\\nWhat is Automated Machine Learning?\\n\\n1\\n\\n1\\n\\n1\\n\\n1\\n\\n6\\n\\nHow do I install AzureML SDK V2?\\n\\nIncorrect\\n\\nIncorrect\\n\\nIncorrect\\n\\n1\\n\\n7\\n\\nWhat is Compute Instance?\\n\\n1\\n\\n1\\n\\n1\\n\\n2\\n\\n8\\n\\nHow to create a command job in AzureML?\\n\\nIncorrect\\n\\n2\\n\\n1\\n\\nIncorrect\\n\\n9\\n\\nHow to attach a kubernetes cluster to a workspace?\\n\\n2\\n\\n2\\n\\n2\\n\\n2\\n\\n10\\n\\nHow can I add a Managed Identity to my compute cluster?\\n\\n\\xa0\\n\\n\\xa0\\n\\n\\xa0\\n\\n\\xa0\\n\\n11\\n\\nWhen should I use responsible AI\\n\\n2\\n\\n2\\n\\n1\\n\\n1\\n\\nMicrosoft Build: Getting started with generative AI using Azure OpenAI Service\\n\\nDom Divakaruni, Pablo Castro, Jamie Ovenden, Charlotte Wood, Tim Gordon\\n\\nMay 2023\\n\\n\\n\\n[MUSIC] \\n\\n\\n\\nDOM DIVAKARUNI: Well, hello everyone. Great to see you. My name is Dom Divakaruni, I lead Product for Azure OpenAI, and I'm joined by my esteemed colleague, Pablo Castro, who leads Azure Cognitive Search. I'm super happy to be here with you all here to talk about Azure OpenAI and the tools that we're building to help you develop applications with it, to develop Copilots with it, and excited to share a bunch of new announcements, some of which you've heard during Scott's talk, and dive into it in some more details here.\\n\\n\\n\\nYou've heard a lot about this, but again, setting the stage, the field is as old as some of us here in the room and it's really been accelerating since 2012, started with the AlexNet Paper and then the transformers in 2017 but really it's picked up steam in the last couple of years. None of us have seen this pace of innovation and it's really changing all our lives in such a meaningful way very quickly. Seen in no other than ChatGPT in how quickly it really captured all of our attention. In no time in history has technology or really any innovation captured all our interests so quickly and has reached the adoption levels of ChatGPT as we've seen. In really two months, it has scaled to 100 million users, and it just speaks to how useful and practical it is in all our daily lives and intuitive.\\n\\n\\n\\nWe at Azure AI are happy to build all these innovations into products to make them second nature for us to consume in our productivity suites, in search engines that we use as well as low-code, no-code tools that we all use in PowerBI and PowerApps. All that can zoom the powerful AI models in the customizable AI model, including Azure OpenAI, which is our service that brings together OpenAI's most recent innovation to life. You can build applications with it because that's what's most important. All of this runs on Azure Machine Learning, our massive-scale AI platform that helps all these innovations come to life.\\n\\n\\n\\nWe look at Azure OpenAI. What is it? It is our platform that helps us bring OpenAI's research to life. It rides on a foundation of enterprise security with all the highest security standards and what you expect from the cloud and what you can depend on, where your data is private and it remains in your tenant, and none of it is used to train or improve our systems or train machine learning models, and provides you with all of OpenAI's models as quickly as we possibly can, including the most recent GPT-4 model. It has really captured all the attention of the industry. It's lighting up all these unique use cases that haven't been possible before: summarization, reasoning over data, writing tools, co-generation, and now ushering in the era of Copilots.\", metadata={'source': 'BuildKeyNotes\\\\BRK214H.docx'}),\n",
       " Document(page_content=\"GPT-4 is the latest to the state of the art from OpenAI and you've heard a lot about it. It achieves human-level perf on text generation. It lets you steer it with nuanced instructions. Actually, OpenAI will tell you that they've had this model done training and still in development for about six months. That time was carefully spent tuning the model to make it more steerable and useful when you instruct it to do something. It really shows.\\n\\n\\n\\nI don't know if you all have had a chance to play with GPT4 either in ChatGPT or the Azure OpenAI Service, but what you're able to do with it is really remarkable. There was a time in the past where prompt engineering really was considered an art and it really took a lot of coaxing to get the model to do what you need it to do. Not anymore with GPT4. Just with a few instructions, what you can create with it is fricking phenomenal. All of that is really being used by thousands of customers. I think Scott cited 4,500 customers that are using Azure OpenAI today and really building with it. Coursera is a great example of a customer that is building AI-powered learning experience on our platform to help learners with an interactive learning experience that helps learning be a more personalized journey than one that is generic and crafted, and that's out there and we have to adapt to it.\\n\\n\\n\\nAs we look at this, we see three use cases really emerging. One is where AI is embedded into products we use like search and makes things fundamentally better. Search synthesis as opposed to search results on a page that you have to discern what the right thing is for you, and pretty simple use cases like generating blogs or helping us write emails. The next level above that is what we've seen just over the past few months with ChatGPT, where it's helping novices learn topics that they are not familiar with with a simple QA-based style learning. That really opens the doors for us to become more effective at everything we do by just simply asking the model to help be our Copilot to guide us along a task.\\n\\n\\n\\nThe last part where we're seeing these models really help and emerges to help experts be more efficient at what they do, offloading their tasks and helping the knowledge worker be more effective at what they do. We're seeing that in no other place. Epic Healthcare plays a major role in the healthcare industry, and we're helping them incorporate GPT-4 into electronic health records. They are helping medical professionals use their time more effectively. Another great example of helping the expert is DataRobot. DataRobot, our partner, incorporated Azure OpenAI to help their customer cohort, their customer base of data scientists and ML practitioners be more effective. Machine learning's been out there for a long time. Lots of customers use it in their mission critical applications as part of their workflow and the tasks that they do. What this integration helps customers at DataRobot do is it helps them do their jobs more effectively, it provides data scientists with some analysis which they can go fact check and helps accelerate their journey, helps create more models and put AI into more places.\", metadata={'source': 'BuildKeyNotes\\\\BRK214H.docx'}),\n",
       " Document(page_content=\"With this, I'm happy to share a couple of announcements. We talked about the models that are available on the platform. This conference at Build is all about us taking that a step forward, helping you build Copilots along with these technologies. I'm happy to announce four different capabilities. Pablo will talk about one more with Azure Cognitive Search. The first two really help you extend the capability of the models, incorporate your own data, because that's really when it's useful is when you are able to apply your data to it and garner insights from it and help leverage the model to power insights and power your applications. Then the last two which I'll go into are innovations that will really provide you more control over the way you integrate the service into your applications and also a provision throughput, which is a capability for large-scale production applications. Let's dive into it.\\n\\n\\n\\nTo go from a 10,000 foot level down much lower, let's talk about the API interface that makes this possible today. It's called a chat completions API, which is all encompassing. In the past, you may have been familiar with the completions API, and used the completions API to ask the model, and it's a single question response interface. This one not only does everything the previous API did, but also enables chat, which enables these Copilot-like scenarios. Where, if you look at the code there, it allows for a couple different fields. One is the system field, which is really the system message or, as Kevin talked about, the meta prompt, which you can tailor to tell the model exactly how to behave, what to say, what not to say, what parameters to stay between and really steer the model for your particular application, for your particular use case. Then you can stick any number of examples into the prompt as long as the prompt length goes. Under the role of User and Assistant, you can provide the model with some examples to help steer it. In fact, what we're finding internally is that this paradigm of using the system message and examples in User and Assistant, gets you really a long way than the traditional approaches with using fine tuning where you really have to go low level. You have to train these models with your data. It's a tough mental model and paradigm for us to break where a lot of us in the machine learning field, fine tuning is just a natural thing. You have a base model, you've got to fine-tune it for your particular task, and what we're really seeing is that increasingly, with each generation of model, you're having to do that much less and less where the system message combined with examples that you can put in the prompt, really get you quite a distance.\\n\\n\\n\\nPer all the keynotes and the talk so far, the challenge that we run into is great, the model is fantastic, it has a base level of knowledge, probably trained in 2022 with GPT-4. But it doesn't it doesn't have my context. I want to put my context into the prompt. The prompt length isn't long enough. What do I do? I don't want to have to keep sending the model all these tokens for my entire document at once. The conventional solution that we keep telling customers is build a vector database and at run-time, go find the relevant snippets that pertain to your query, craft your prompt, and run it. Has worked for a lot of customers for quite a while now, but we felt that this was an opportunity to make it easier for customers, and so I'd like to introduce Azure OpenAI on your data.\", metadata={'source': 'BuildKeyNotes\\\\BRK214H.docx'}),\n",
       " Document(page_content=\"We've built a really easy way to make it easy for developers to ground Azure OpenAI on your data. You can combine a model like chatGPT, which is GPT 3.5 Turbo or GPT-4 with your own data and build your assistant that reasons over your private data, and it does it securely within your Azure tenant, in your Azure resource, no data is shared with anybody, your data is not used. Again, I'm trying to hammer this point home because it comes from a lot of customers. Your data is not used to improve our systems or train machine learning models, it's all in your own tenant.\\n\\n\\n\\nWe have a number of data sources to start; there, in the top blue, we'll be expanding to a number of additional data sources in the weeks and months to come. Really it is to extend the capability of these models for you to ground it on your own data. Why don't I flip to a demo of what this looks like? You've seen some of this onstage, but I can go into it in a little bit more depth. We all know how live demos go. Keeping my fingers crossed for the demo gods to shine, to smile on us.\\n\\n\\n\\nHere I am in the Azure OpenAI Studio. This is being called the Azure AI Studio as we bring together a lot of industry open source models for you to really take advantage of the most cutting edge in AI. I'm going to flip to the ChatGPT playground. God, I hope this loads. It did. What I'm going to show you first is the base model without grounding with your data. I'm going to type in something simple. Think of this as a chat bot facing your employees for them to learn about some specifics in your health insurance plan. I'm going to look up on this. The model is either going to say I don't know or come up with an answer that's pretty generic. The model, sure enough, said it doesn't have information about specific Premera health plans.\\n\\n\\n\\nNow I want to ground this with my data. We've introduced this new add your data field. By the way, I meant to say, before I get to add your data, on the system message, in case you're not familiar with it, this is where you can go craft your specific instructions to the model to tailor it to what you want to do. I'm going to go back to add your data. I'm going to add a data source. Here we have a number of options for you to use. Blob stores, you can upload files, whether that's PDFs, or Word documents, or what have you, and you can use your search index as your cognitive search, which I'm going to use for this demo. I'm going to choose a cognitive search service and I acknowledge that I may incur charges for the use of this.\\n\\n\\n\\nThis is going exceedingly slow. That doesn't seem to want to work. Let me try reloading the page. Pardon me folks, we'll get there. For instances like these, I do have a spare recording, so we'll have to go to that and you'll have to pretend like I'm doing this live. We'll just have to roll with it. You can see I recorded this this morning. I'm certainly not, it's great that AR/VR is not my day job. I clearly have this thing that it says it's recorded.\\n\\n\\n\\nI'm going to jump in here and fast forward, I go add your data. At this point, I look through my data sources, I look at my cognitive search index, and choose. This is where I was before. I chose my search index. Now I want to map the columns in my index to citations that I want to see when it generates an answer. Perfect, I choose fields that match what I want, match my search index. This is key. I want to be able to say limit responses to what's in the data content. Oftentimes, you build this thing. You don't want the model to stray off in some random build, and provide your employees with something it's not supposed to respond to. You can certainly do that in the system prompter, you can craft it to say, don't do this. But you can also say limit responses to your data content. That's just it. Thank you. It's still top left. The winning answer goes to swap displays. Got it, awesome. It's teamwork, folks, teamwork makes dream work. We're here.\", metadata={'source': 'BuildKeyNotes\\\\BRK214H.docx'}),\n",
       " Document(page_content=\"Now, I'm going to go ask it the same question, are eye exams covered under the Premera plan? It says yes. Eye exams are indeed covered and provide you a citation. Always check AI's work and you're able to go see on the right-hand side what document it'd pull up, did it do the right thing. Perfect. Now there's another neat feature that's baked into here, which is, I can go publish this as a Azure App Services web app, which then lets you easily provide an interface that folks can interact with. You can either test this out or you can go take that web app and extend it to your own use case. You can add your own authentication on it and make this your own for your own companies. This is the view of that web app. Imagine that I published it and you go ask, this is like a standard user interface. No one's actually going to go to the Azure OpenAI Studio. They're going to go to this interface that you built for your own company. This is another way to make it really easy for you to go build your own Copilot and present it out to your audience. Could you flip back to the slides for me, please? Awesome.\\n\\n\\n\\nWith that, I'm going to introduce you to Pablo, who will walk you under the covers of how you create your search index and what power is the experience that you just saw. Thank you, Pablo. \\n\\n\\n\\nPABLO CASTRO: Thanks, Dom. Hi, everyone. Good morning. As you probably already heard this morning during keynotes and whatnot, integrating large language models with your own data is one of the key challenges that we all face when constructing new generative AI applications. The emerging pattern for this is what we call Retrieval Augmented Generation. The idea of Retrieval Augmented Generation, or RAG, is to separate the large language model from an externalized knowledge base, all coordinated with an orchestrator that mediates interaction between these two components and the rest of the application experience.\\n\\n\\n\\nThere are different ways to bundle this together. Sometimes you'll build your own applications, maybe you're building your own Copilot or your own custom experience where you control the application user interface, you build your own orchestrator either with the technology Dom just showed, or maybe you're using long-chain or Semantic Kernel to orchestrate all of these things together. In the end, at that point you built the entire stack on your own and maybe you use a large language model and a retriever, or sometimes you'll build a plugin, which is a way to use extensibility in other systems like ChatGPT, or any of the other surface areas as we discussed this morning that now support plugins.\\n\\n\\n\\nNow a key element is that in all of these scenarios, what we have is an externalized knowledge base. This allows us to bring data that is not about the model. We use the model because of its capabilities to absorb information, reason about it, and give us answers, but we don't want its knowledge. We want the knowledge to be the one we bring in through the knowledge base. If you think about the actual knowledge base, let's think about what is the problem statement we need to tackle. What we want to do is we want to externalize knowledge into this retriever. What the retrieval needs to do is find the most relevant pieces of information across a very large set, given just an unstructured query. The systems that do these have a name already, and they're called search engines. In the context of Azure, Azure Cognitive Search is a solution for retrieval that can power all of these applications. It'll bring all the building blocks that you'll need from data ingestion, to scaling, to enterprise-grade security, to dealing with written languages and whatnot.\", metadata={'source': 'BuildKeyNotes\\\\BRK214H.docx'}),\n",
       " Document(page_content=\"Using Cognitive Search, you can now create a knowledge base there and along with a large language model, create an integrated experience for customers. Traditional methods for search are very often very effective for this, so you'll use things like keyword search, symbolic manipulation of text for linguistics and things like that. That has proven effective in a number of ways. That said, another emerging trend these days is to also use representation based retrieval or vector embeddings for retrieval, which are complimentary to traditional methods in the sense that they can do semantic base retrieval that's very useful in some cases.\\n\\n\\n\\nLet me very quickly first establish what do we mean by semantic similarity. The idea is, you can learn a model such that imagine you have a high dimensional vector space that you train such that things that mean similar things are close together in that vector space. There are many ways to do this. I'm happy to talk about the details later, but think about that as the outcome. Now if you have a system like that, then you can encode maybe words or sentences or pictures or pieces of audio and as soon as they are all in this vector space, then you can define similarity as, hey, if I find vectors that are close together, then I found the things that are similar. You can do this using the Azure OpenAI embeddings API. There are many excellent open source embedding models like Sentence-BERT or CLIP, or you can build your own.\\n\\n\\n\\nNow, once you have an embedding, the problem of vector retrieval kind of split in two. First, you need to think about encoding or vectorizing your content, what you are ingesting it. Then at query time, when you use it, you want to vectorize the query as well, because in the end you are comparing vectors to vectors at that point. Once you have that done, the second part has to do with vector indexing. By that what I mean is you have a ton of content and you run this content through whatever preparation you need to, then through an encoder and put it in a vector database. Then when a query comes in, you take the query vector and you have to find the K-closest neighbors to that vector real quick. For large collections, doing this exhaustively as in comparing every vector is completely impractical, so in general, what we do is approximate nearest neighbor search, and there are a number of techniques to do that.\\n\\n\\n\\nIn the context of Azure, I'm very excited to announce that Azure Cognitive Search now has native support for vector search. We do this by introducing a new vector type that you can add to your indexes. Once you have that, you can use Azure Cognitive Search either as a pure vector search solution for the cases where you only want vectors, or as a hybrid retrieval solution where in many cases for these retrieval systems, you get the best quality of results by combining the best of traditional retrieval methods of keyword search based retrieval with vector based retrieval, where what we can do is we can query both fronts then fuse the results and present you the best candidate.\\n\\n\\n\\nAdditionally, we support combining this with our second step, or L2 re-ranking system that is powered by the same models that powers Bing. Such that by just enabling disk functionality, you can have us do hybrid retriever from vectors and from keywords, feed that into a secondary re-ranker where we'll re-rank for best results and then return that to the caller. All of that is built for you so you don't have to deal with the challenges of retrieval and you can focus on the functionality of the application. Of course, we'll do this in the context of Azure with enterprise-grade security and scalability and so on. Let's actually see this in action.\", metadata={'source': 'BuildKeyNotes\\\\BRK214H.docx'}),\n",
       " Document(page_content=\"We can switch to the demo monitor. Excellent. Let me start here. What we'll do first is we'll just go and look at exactly what the API looks like. No fancy applications up top or anything, not even the SDK, we'll just do REST calls to see what does it look like to create and use a vector index. What I have here looks like a typical Azure search step to create an index where you define some fields. In this case, I have a searchable field, a filterable field. But I'm also introducing a vector field right here, and in this case I'm saying the dimensions. I'm using three so we can actually read this stuff. Practical numbers for these are usually in the hundreds, or maybe low thousands. Then indicating a vector configuration, which here it says what kind of vector index I want to create. In this case, I'm using HNSW. It's one of the ways you can organize vector indexes and I'm describing what is the metric; as in, how do we measure how close vectors are. In this case I'm saying cosine, we support a few other metrics like dot-product or Euclidean distance. Let me run this request.\\n\\n\\n\\nNow I have a vector index that also, I have a hybrid index, it has vector and text. Next up, what I want to do is index some data. Again, this looks like a pretty normal Azure search, index, and request. It has three documents: first, second, and third. The only difference is one of the fields is a vector. Usually this is like maybe 1,500 floats. In this case I'm just having three so we can actually read through the stuff. I click send. Great. Now we have three documents indexed. Now let's run some vector queries.\\n\\n\\n\\nThe simplest query I can run is I can just say, hey, here's a vector and give me the closest 10 ones using as a reference this field number one. I'm going to run this guy. You can see I'm getting all three because in the end, they all match; the question is how far they are from the vector, and the score kind of indicates that. In fact, if I move this vector a little bit, and I'll put it in this position and run this query again, you can see that the first one is almost there. It's actually the same spot within precision. This was pure vector search. A couple of other interesting things you can do, one is, you can combine vectors with filters, maybe for security purposes or to customize the experience. In this case, I'm going to say filters and you can see these cats, category A, category B, and whatnot. What I'll do here is I'll say category equals B and run this query again. Now you can see I get the ranked results, but only the ones that fit the filter criteria before we evaluate the vector similarity.\\n\\n\\n\\nLastly, I talked about hybrid search. Very fancy sounding mechanics, but the way to use it is pretty simple. You just say search, and you give us keywords. In this case I'm going to add for the second document. I'm going to run this request, and you can see now, second document ranks higher because we're combining this course, we're fusing the retrieval from the keyword, some from the retrieval from the vectors, and then computing a few set of scores for them.\\n\\n\\n\\nIn this minute, what we do is we created a search index with a vector, indexed some vectors and then searched. Let's see this real quick on a complete application. This random battery thing I have open. All right, there. This is one of the example applications that we show, and actually this is in GitHub if anyone wants to try it.\", metadata={'source': 'BuildKeyNotes\\\\BRK214H.docx'}),\n",
       " Document(page_content=\"Typically the way it works is we have an Azure search index, you give us a question, look at it in the index, and then feed it to the model to answer the question. Sometimes people can ask questions and there is always someone. They will ask a question like this: is the healthcare website for employees? They'll say, instead of just saying hearing device, they'll say, you know, some mechanical waves reaching the sides of my ear. The point is the retriever has no hope because, all these words don't quite mean anything from the retrieval standpoint, if you're looking for words. That's awesome. Let me do this. I promise this will work. Nothing like killing the thing and starting it over. There. One more second. I'm going to retry now, let's see if it's up. There. Now it's up. The bot has not much to work with because we didn't retrieve any document that is useful to it. Actually, I'm very glad that the model manages to say it doesn't know, because we don't want this model to spin. There is an answer somewhere in this knowledge base. The problem is the question is too contrived. Let me fix this by using Azure Cognitive Search Vectors. What I have here is, in my index, this is just the Azure portal. We can take a look at what's under the covers. You can see that I already created my content. I also have Azure embedding. I'm using the Azure OpenAI embeddings API for this.\\n\\n\\n\\nNow I'm going to go to my code real quick here, this is where the search happens, and I'm going to add vector support here. What I'll do is I'll say query vector equals, and I need to embed the query as a vector. I'll say OpenAI, the embeddings, create. Then the engine I want to use, I have it in my configuration already. Then the input is q, is the query that I'm getting from the user. Once I have a vector, what I want to do is in my call to Azure Cognitive Search, I want to pass a vector as part of the query. I need three inputs. One is the actual value of the vector; in this case, is query vector which is calculated. K is how many I want to retrieve. I already have a top argument for that. Then fields is which fields to look into which the name of my field in this case is embedding. I actually need to dig into the response a little bit and get the actual part that I care about, which is the actual vector. We'll go with that. Let's put a breakpoint here and see what happens.\\n\\n\\n\\nNow I'm going to ask the same question again. If I look at here what I hit the breakpoint, what I have here is the vector representation of this question. Actually, this works much better when you actually restart your application if you change the code so that you actually pick up your changes. Let's try one more time. There. Now I have an actual vector representation. This is what OpenAI computed as the encoded version of my question. Now I can send this to Azure Cognitive Search and then compute the results that then I'll send to the completions API to compute an answer. Now that we have actual data to work with, then the large language model can provide a reasonable answer to the question. It actually understood that I'm talking about a hearing aid device instead of some convoluted description of what it was. If we can go back to the slides.\\n\\n\\n\\nAgain, very excited to bring native vector search support as part of Azure Cognitive Search for all of you to create the next generation of large language models, powered applications on your own data. This is in private preview today. You can go to this link to sign up. To talk more about how they've been innovating using Azure OpenAI and Azure Cognitive Search, I want to roll a video from one of our customers, Schroders, innovating and trying in the real world some of this technology. Let's roll the video, please.\", metadata={'source': 'BuildKeyNotes\\\\BRK214H.docx'}),\n",
       " Document(page_content=\"JAMIE OVENDEN: I'm Jamie Ovenden. I'm the group CTO at Schroders. Schroders is a global investment manager. We manage nearly a trillion dollars of assets across private markets, public markets, and for wealth clients. Our entire investment performance relies on the understanding, the ingestion, the analytics analysis, and the output of data. The opportunities of generative AI in our space are absolutely huge.\\n\\n\\n\\nCHARLOTTE WOOD: We think that generative AI has loads of exciting applications across our industry and others, and can also bring huge value to Schroders and to our clients. We can't wait to innovate with it. But we do need to balance that innovation with the need for security, data privacy, and client confidentiality, as well as making sure that we focus our resources on the right places. \\n\\n\\n\\nTIM GORDON: As someone who works with natural language processing, one of the things that's got me very excited about generative AI is reproducing applications which really do allow users to engage in activities and complete tasks that otherwise would have been impossible. Internally, we've deployed an AI system which we call Genie globally to our 6,000 users. It has both chat functionality and document QA functionality, which is supported by Azure OpenAI's implementation. The chat functionality is used for a wide range of tasks such as translation and also for coding tasks associated with the construction of systematic portfolios. Document Q and A allows users to interact with documents that are hundreds of pages long, far too long for them to read exhaustively, and allow them to ask questions that they otherwise might have missed. It uses a memory vector-based search to shortlist the sections of the document, which we then summarize using the large language models. We found the Azure OpenAI implementation to be really fast, really useful to have isolated resources between our environments, especially useful for low testing. Additionally, we found APIM to be an essential service during our efforts it really does come in useful for allowing us to track where costs are incurred around the various endpoints that we have in the application. \\n\\n\\n\\nJAMIE OVENDEN: Our next challenge is going to be scaling up. We've created huge demand within our population for the capabilities that we've delivered. Particularly, the ability to use internal documents in a secure way has really driven enthusiasm for the product. But the challenge we've now got is how do we create more holistic capability? How did we upload large amounts of data and document that Schroders has into the capability so that we can query it? Vector-based search is really the only option here. \\n\\n\\n\\nCHARLOTTE WOOD: We are looking forward to using the vector database capabilities within as Azure Cognitive Search to help us to evolve Genie further and make it more valuable for our users. \\n\\n\\n\\nTIM GORDON: When it comes to vector-based search, what we really need is our language developers to actually jump straight in and just rely on the service and have all the scalability concerns taken care of by that service. \\n\\n\\n\\nCHARLOTTE WOODS: There's so much opportunity with this that prioritization has been critical and finding the use cases that have a lot of value that are also unique to our organization. It's really important for us going forward so that we know where to focus our resource. \\n\\n\\n\\nPABLO CASTRO: Great. Thanks to our customer, Schroders. With that, I'll call Don back on stage. Thanks very much. \\n\\n\\n\\nDOM DIVAKARUNI: Thank you, Pablo. That was fantastic. It's pretty amazing to see how customers are leaning in with this technology faster, I think, than anyone has ever seen in other tech paradigms before, so it's pretty exciting and we're super happy to be able to help customers with that.\", metadata={'source': 'BuildKeyNotes\\\\BRK214H.docx'}),\n",
       " Document(page_content=\"Another area that I want to share is plugins. We heard about plugins before. What are we doing in Azure OpenAI to help customers leverage plugins? Some of the problems we wanted to tackle with these models is where these models fall short today. They're great with lots and lots of different languages. Probably fall short a little bit in some tier two, tier three languages, and some Asian languages, African languages, etc. OpenAI also has something called the retrieval plugin that talks to multiple vector databases. We wanted to also incorporate that as a first-class thing with Azure OpenAI.\\n\\n\\n\\nLastly, we wanted to tie Azure OpenAI to information on the web so you can ground it with more relevant recent information as that's what's most useful, and build applications on top of all of this. And so happy to introduce Azure OpenAI Service Plugins, where this will be interoperable with all the plugins that OpenAI has, but what we're focused on first is to solve some of these key problems by integrating these Azure services or Microsoft services into our plugins to allow for these models to be extended for you to build applications on these models, extend them out to these various Azure services. All these sources are managed with Azure AD and managed identities, so your application can only access stuff that it's authorized to. Then additionally, because of some of the newness and the potential and learnings in the space, we want to ensure that we provide administrators with the control to only enable plugins that are approved in your enterprise for your Azure OpenAI resources.\\n\\n\\n\\nYou can administer what folks can see and what folks can't see. I'm going to quickly demo this and hopefully, the demo gods smile on me this time. At first, you don't succeed. In Azure OpenAI, I have a new section for plugins where I can enable the stuff. As you can see, I have three plugins enabled: Bing Search, Translator, and Cognitive Search, what Pablo was just demoing, and so I'm going to pretend here that we've built a Copilot that faces Contoso manufacturing corporation, and there's a problem with a part. There's a customer complaint that I'm trying to figure out what the customer is saying and help them resolve it. In this scenario, a customer e-mail came in in Vietnamese, and I don't know if I want to trust the model quality in trying to parse out the customer's concerns, so I want to use Azure Translator, which has really high translation accuracy. I go ahead and send that in and I want to make sure that it not only translates, but the model then acts on the translation to help summarize what are the client's most key concerns. We wait for this to come in.\", metadata={'source': 'BuildKeyNotes\\\\BRK214H.docx'}),\n",
       " Document(page_content=\"Obviously, this is something that is in preview and that we're working on, and so what we're seeing here is that they're worried that proper due diligence hasn't been done on air quality. They want to make sure that the air quality standards in the documentation may be outdated, and so they want us to just double-check if everything is working right. Actually, if you look at this down here, we'll see that the Translator plugin has been used and we see the output of the actual translation. At this point, I'm going to ask it, hey, what are the testing standards? When I type in this, the model obviously says, I don't know this information. I should now reach out to Cognitive Search with my index, with my documents to understand what parts are relevant to extract that information out. Great, it says that these are the testing standards. It provided me with a number of tests, but it says that it's using a ISO standard, and I don't know if our testing standards have been up-to-date. This could be an old document. I'm going to go explore on the web to see what is the latest standard, and do I have that covered in my documentation? I'd say, when was ISO last updated? At this point, the plugin service reaches out to the Bing Search API and determines that the plugin was last updated in 2010, and if I go to the source it sure enough links to the ISO standard.\\n\\n\\n\\nWell, this is going to load pretty slow, so I'm going to give up at that point. But as you can see, we've extended the model's capability to reach out to another external system. It'll help you build more powerful Copilots and leverage multiple sources of data that's out there. If I can go back to the slides now. Thanks much.\\n\\n\\n\\nDuring the keynote, we covered configurable content filters. This is another important area of control that we wanted to introduce for our customers. Today, we run content filtering in line with the service. We filter out the prompts and completions to ensure that no harmful content in these following categories are filtered. What we've now enabled is the ability to adjust the sensitivity of your content filters. By default, medium-severity harms are filtered out. You can adjust that now to say, hey, you know what, in the sexual category I don't want low-severity harms as well, so you can filter that out. There's plenty of great content. It looks like we ran a little long with some demo issues, so I don't want to hold you all up here. The last thing I'd say is that we have Provision Throughput, which is an offering for production applications running at really large-scale to ensure that they can reserve the capacity they need for their production applications.\\n\\n\\n\\nIt's going to be available in very limited form for large-scale applications on our service. Please reach out to your account team if you want to learn more. That's it. I'll recap with some next steps. We covered a lot of announcements here. Please take a picture of that QR code, visit it and you'll get updates on when the stuff is available. All of these are coming early June, so please tune in for these updates and we look forward to seeing what you'll build with it. Thank you very much.\\n\\n\\n\\nEND\", metadata={'source': 'BuildKeyNotes\\\\BRK214H.docx'})]"
      ]
     },
     "execution_count": 6,
     "metadata": {},
     "output_type": "execute_result"
    }
   ],
   "source": [
    "docs"
   ]
  },
  {
   "cell_type": "code",
   "execution_count": 143,
   "id": "178a5425",
   "metadata": {},
   "outputs": [],
   "source": [
    "# Now we can override it and set it to \"AI Assistant\"\n",
    "from langchain.prompts.prompt import PromptTemplate\n",
    "from langchain.chains import ConversationChain\n",
    "from langchain.memory import ConversationBufferMemory\n",
    "from langchain.chat_models import AzureChatOpenAI\n",
    "chat = AzureChatOpenAI(\n",
    "    deployment_name=\"gpt-4\",\n",
    "    model_name=MODEL,\n",
    "    temperature=TEMPERATURE\n",
    ")\n",
    "template = \"\"\"The following is a friendly conversation between a human and an AI. The AI is talkative and provides lots of specific details from its context. If the AI does not know the answer to a question, it truthfully says it does not know.\n",
    "\n",
    "Current conversation:\n",
    "{history}\n",
    "Human: {input}\n",
    "AI Assistant:\"\"\"\n",
    "PROMPT = PromptTemplate(\n",
    "    input_variables=[\"history\", \"input\"], template=template\n",
    ")\n",
    "conversation = ConversationChain(\n",
    "    prompt=PROMPT,\n",
    "    llm=chat, \n",
    "    verbose=False, \n",
    "    memory=ConversationBufferMemory(ai_prefix=\"AI Assistant\")\n",
    "    \n",
    ")"
   ]
  },
  {
   "cell_type": "code",
   "execution_count": 144,
   "id": "cab1fd06",
   "metadata": {},
   "outputs": [
    {
     "data": {
      "text/plain": [
       "\"Hello! How can I help you today? Is there something specific you'd like to talk about or ask?\""
      ]
     },
     "execution_count": 144,
     "metadata": {},
     "output_type": "execute_result"
    }
   ],
   "source": [
    "conversation.predict(input =\"hi\",)"
   ]
  },
  {
   "cell_type": "code",
   "execution_count": 146,
   "id": "5dae66af",
   "metadata": {},
   "outputs": [
    {
     "ename": "NameError",
     "evalue": "name 'colored' is not defined",
     "output_type": "error",
     "traceback": [
      "\u001b[1;31m---------------------------------------------------------------------------\u001b[0m",
      "\u001b[1;31mNameError\u001b[0m                                 Traceback (most recent call last)",
      "Cell \u001b[1;32mIn[146], line 1\u001b[0m\n\u001b[1;32m----> 1\u001b[0m \u001b[38;5;28mprint\u001b[39m(\u001b[43mcolored\u001b[49m(\u001b[38;5;124m\"\u001b[39m\u001b[38;5;124mAI Response:\u001b[39m\u001b[38;5;124m\"\u001b[39m, tr(conversation\u001b[38;5;241m.\u001b[39mmemory\u001b[38;5;241m.\u001b[39mchat_memory\u001b[38;5;241m.\u001b[39mmessages),\u001b[38;5;124m\"\u001b[39m\u001b[38;5;124mgreen\u001b[39m\u001b[38;5;124m\"\u001b[39m))\n",
      "\u001b[1;31mNameError\u001b[0m: name 'colored' is not defined"
     ]
    }
   ],
   "source": [
    "print(colored(\"AI Response:\", tr(conversation.memory.chat_memory.messages),\"green\"))"
   ]
  },
  {
   "cell_type": "code",
   "execution_count": 135,
   "id": "8d45e28a",
   "metadata": {},
   "outputs": [
    {
     "data": {
      "text/plain": [
       "PromptTemplate(input_variables=['history', 'input'], output_parser=None, partial_variables={}, template='The following is a friendly conversation between a human and an AI. The AI is talkative and provides lots of specific details from its context. If the AI does not know the answer to a question, it truthfully says it does not know.\\n\\nCurrent conversation:\\n{history}\\nHuman: {input}\\nAI Assistant:', template_format='f-string', validate_template=True)"
      ]
     },
     "execution_count": 135,
     "metadata": {},
     "output_type": "execute_result"
    }
   ],
   "source": [
    "PROMPT"
   ]
  },
  {
   "cell_type": "code",
   "execution_count": null,
   "id": "93877aed",
   "metadata": {},
   "outputs": [],
   "source": []
  },
  {
   "cell_type": "code",
   "execution_count": 7,
   "id": "deb7b18a",
   "metadata": {},
   "outputs": [],
   "source": [
    "from langchain.embeddings import OpenAIEmbeddings\n",
    "# Define your embedding model\n",
    "embeddings_model = OpenAIEmbeddings(\n",
    "    deployment=\"text-embedding-ada-002\",\n",
    "    model=\"text-embedding-ada-002\",\n",
    "    chunk_size=1\n",
    ")"
   ]
  },
  {
   "cell_type": "code",
   "execution_count": 8,
   "id": "4000453f",
   "metadata": {},
   "outputs": [],
   "source": [
    "db = DocArrayInMemorySearch.from_documents(\n",
    "    docs, \n",
    "    embeddings_model,\n",
    ")"
   ]
  },
  {
   "cell_type": "code",
   "execution_count": null,
   "id": "afd5b32c",
   "metadata": {},
   "outputs": [],
   "source": []
  },
  {
   "cell_type": "code",
   "execution_count": 9,
   "id": "6c4fb098",
   "metadata": {},
   "outputs": [],
   "source": [
    "query = \"customers that are using Azure OpenAI today\"\n",
    "docs = db.similarity_search(query)"
   ]
  },
  {
   "cell_type": "code",
   "execution_count": 10,
   "id": "511b2cf7",
   "metadata": {},
   "outputs": [
    {
     "data": {
      "text/plain": [
       "[Document(page_content=\"Microsoft Build: Getting started with generative AI using Azure OpenAI Service\\n\\nDom Divakaruni, Pablo Castro, Jamie Ovenden, Charlotte Wood, Tim Gordon\\n\\nMay 2023\\n\\n\\n\\n[MUSIC] \\n\\n\\n\\nDOM DIVAKARUNI: Well, hello everyone. Great to see you. My name is Dom Divakaruni, I lead Product for Azure OpenAI, and I'm joined by my esteemed colleague, Pablo Castro, who leads Azure Cognitive Search. I'm super happy to be here with you all here to talk about Azure OpenAI and the tools that we're building to help you develop applications with it, to develop Copilots with it, and excited to share a bunch of new announcements, some of which you've heard during Scott's talk, and dive into it in some more details here.\\n\\n\\n\\nYou've heard a lot about this, but again, setting the stage, the field is as old as some of us here in the room and it's really been accelerating since 2012, started with the AlexNet Paper and then the transformers in 2017 but really it's picked up steam in the last couple of years. None of us have seen this pace of innovation and it's really changing all our lives in such a meaningful way very quickly. Seen in no other than ChatGPT in how quickly it really captured all of our attention. In no time in history has technology or really any innovation captured all our interests so quickly and has reached the adoption levels of ChatGPT as we've seen. In really two months, it has scaled to 100 million users, and it just speaks to how useful and practical it is in all our daily lives and intuitive.\\n\\n\\n\\nWe at Azure AI are happy to build all these innovations into products to make them second nature for us to consume in our productivity suites, in search engines that we use as well as low-code, no-code tools that we all use in PowerBI and PowerApps. All that can zoom the powerful AI models in the customizable AI model, including Azure OpenAI, which is our service that brings together OpenAI's most recent innovation to life. You can build applications with it because that's what's most important. All of this runs on Azure Machine Learning, our massive-scale AI platform that helps all these innovations come to life.\\n\\n\\n\\nWe look at Azure OpenAI. What is it? It is our platform that helps us bring OpenAI's research to life. It rides on a foundation of enterprise security with all the highest security standards and what you expect from the cloud and what you can depend on, where your data is private and it remains in your tenant, and none of it is used to train or improve our systems or train machine learning models, and provides you with all of OpenAI's models as quickly as we possibly can, including the most recent GPT-4 model. It has really captured all the attention of the industry. It's lighting up all these unique use cases that haven't been possible before: summarization, reasoning over data, writing tools, co-generation, and now ushering in the era of Copilots.\\n\\n\\n\\nGPT-4 is the latest to the state of the art from OpenAI and you've heard a lot about it. It achieves human-level perf on text generation. It lets you steer it with nuanced instructions. Actually, OpenAI will tell you that they've had this model done training and still in development for about six months. That time was carefully spent tuning the model to make it more steerable and useful when you instruct it to do something. It really shows.\", metadata={'source': 'BuildKeyNotes\\\\BRK214H.docx'}),\n",
       " Document(page_content=\"I don't know if you all have had a chance to play with GPT4 either in ChatGPT or the Azure OpenAI Service, but what you're able to do with it is really remarkable. There was a time in the past where prompt engineering really was considered an art and it really took a lot of coaxing to get the model to do what you need it to do. Not anymore with GPT4. Just with a few instructions, what you can create with it is fricking phenomenal. All of that is really being used by thousands of customers. I think Scott cited 4,500 customers that are using Azure OpenAI today and really building with it. Coursera is a great example of a customer that is building AI-powered learning experience on our platform to help learners with an interactive learning experience that helps learning be a more personalized journey than one that is generic and crafted, and that's out there and we have to adapt to it.\\n\\n\\n\\nAs we look at this, we see three use cases really emerging. One is where AI is embedded into products we use like search and makes things fundamentally better. Search synthesis as opposed to search results on a page that you have to discern what the right thing is for you, and pretty simple use cases like generating blogs or helping us write emails. The next level above that is what we've seen just over the past few months with ChatGPT, where it's helping novices learn topics that they are not familiar with with a simple QA-based style learning. That really opens the doors for us to become more effective at everything we do by just simply asking the model to help be our Copilot to guide us along a task.\\n\\n\\n\\nThe last part where we're seeing these models really help and emerges to help experts be more efficient at what they do, offloading their tasks and helping the knowledge worker be more effective at what they do. We're seeing that in no other place. Epic Healthcare plays a major role in the healthcare industry, and we're helping them incorporate GPT-4 into electronic health records. They are helping medical professionals use their time more effectively. Another great example of helping the expert is DataRobot. DataRobot, our partner, incorporated Azure OpenAI to help their customer cohort, their customer base of data scientists and ML practitioners be more effective. Machine learning's been out there for a long time. Lots of customers use it in their mission critical applications as part of their workflow and the tasks that they do. What this integration helps customers at DataRobot do is it helps them do their jobs more effectively, it provides data scientists with some analysis which they can go fact check and helps accelerate their journey, helps create more models and put AI into more places.\\n\\n\\n\\nWith this, I'm happy to share a couple of announcements. We talked about the models that are available on the platform. This conference at Build is all about us taking that a step forward, helping you build Copilots along with these technologies. I'm happy to announce four different capabilities. Pablo will talk about one more with Azure Cognitive Search. The first two really help you extend the capability of the models, incorporate your own data, because that's really when it's useful is when you are able to apply your data to it and garner insights from it and help leverage the model to power insights and power your applications. Then the last two which I'll go into are innovations that will really provide you more control over the way you integrate the service into your applications and also a provision throughput, which is a capability for large-scale production applications. Let's dive into it.\", metadata={'source': 'BuildKeyNotes\\\\BRK214H.docx'}),\n",
       " Document(page_content=\"Another area that I want to share is plugins. We heard about plugins before. What are we doing in Azure OpenAI to help customers leverage plugins? Some of the problems we wanted to tackle with these models is where these models fall short today. They're great with lots and lots of different languages. Probably fall short a little bit in some tier two, tier three languages, and some Asian languages, African languages, etc. OpenAI also has something called the retrieval plugin that talks to multiple vector databases. We wanted to also incorporate that as a first-class thing with Azure OpenAI.\\n\\n\\n\\nLastly, we wanted to tie Azure OpenAI to information on the web so you can ground it with more relevant recent information as that's what's most useful, and build applications on top of all of this. And so happy to introduce Azure OpenAI Service Plugins, where this will be interoperable with all the plugins that OpenAI has, but what we're focused on first is to solve some of these key problems by integrating these Azure services or Microsoft services into our plugins to allow for these models to be extended for you to build applications on these models, extend them out to these various Azure services. All these sources are managed with Azure AD and managed identities, so your application can only access stuff that it's authorized to. Then additionally, because of some of the newness and the potential and learnings in the space, we want to ensure that we provide administrators with the control to only enable plugins that are approved in your enterprise for your Azure OpenAI resources.\\n\\n\\n\\nYou can administer what folks can see and what folks can't see. I'm going to quickly demo this and hopefully, the demo gods smile on me this time. At first, you don't succeed. In Azure OpenAI, I have a new section for plugins where I can enable the stuff. As you can see, I have three plugins enabled: Bing Search, Translator, and Cognitive Search, what Pablo was just demoing, and so I'm going to pretend here that we've built a Copilot that faces Contoso manufacturing corporation, and there's a problem with a part. There's a customer complaint that I'm trying to figure out what the customer is saying and help them resolve it. In this scenario, a customer e-mail came in in Vietnamese, and I don't know if I want to trust the model quality in trying to parse out the customer's concerns, so I want to use Azure Translator, which has really high translation accuracy. I go ahead and send that in and I want to make sure that it not only translates, but the model then acts on the translation to help summarize what are the client's most key concerns. We wait for this to come in.\", metadata={'source': 'BuildKeyNotes\\\\BRK214H.docx'}),\n",
       " Document(page_content=\"To go from a 10,000 foot level down much lower, let's talk about the API interface that makes this possible today. It's called a chat completions API, which is all encompassing. In the past, you may have been familiar with the completions API, and used the completions API to ask the model, and it's a single question response interface. This one not only does everything the previous API did, but also enables chat, which enables these Copilot-like scenarios. Where, if you look at the code there, it allows for a couple different fields. One is the system field, which is really the system message or, as Kevin talked about, the meta prompt, which you can tailor to tell the model exactly how to behave, what to say, what not to say, what parameters to stay between and really steer the model for your particular application, for your particular use case. Then you can stick any number of examples into the prompt as long as the prompt length goes. Under the role of User and Assistant, you can provide the model with some examples to help steer it. In fact, what we're finding internally is that this paradigm of using the system message and examples in User and Assistant, gets you really a long way than the traditional approaches with using fine tuning where you really have to go low level. You have to train these models with your data. It's a tough mental model and paradigm for us to break where a lot of us in the machine learning field, fine tuning is just a natural thing. You have a base model, you've got to fine-tune it for your particular task, and what we're really seeing is that increasingly, with each generation of model, you're having to do that much less and less where the system message combined with examples that you can put in the prompt, really get you quite a distance.\\n\\n\\n\\nPer all the keynotes and the talk so far, the challenge that we run into is great, the model is fantastic, it has a base level of knowledge, probably trained in 2022 with GPT-4. But it doesn't it doesn't have my context. I want to put my context into the prompt. The prompt length isn't long enough. What do I do? I don't want to have to keep sending the model all these tokens for my entire document at once. The conventional solution that we keep telling customers is build a vector database and at run-time, go find the relevant snippets that pertain to your query, craft your prompt, and run it. Has worked for a lot of customers for quite a while now, but we felt that this was an opportunity to make it easier for customers, and so I'd like to introduce Azure OpenAI on your data.\\n\\n\\n\\nWe've built a really easy way to make it easy for developers to ground Azure OpenAI on your data. You can combine a model like chatGPT, which is GPT 3.5 Turbo or GPT-4 with your own data and build your assistant that reasons over your private data, and it does it securely within your Azure tenant, in your Azure resource, no data is shared with anybody, your data is not used. Again, I'm trying to hammer this point home because it comes from a lot of customers. Your data is not used to improve our systems or train machine learning models, it's all in your own tenant.\\n\\n\\n\\nWe have a number of data sources to start; there, in the top blue, we'll be expanding to a number of additional data sources in the weeks and months to come. Really it is to extend the capability of these models for you to ground it on your own data. Why don't I flip to a demo of what this looks like? You've seen some of this onstage, but I can go into it in a little bit more depth. We all know how live demos go. Keeping my fingers crossed for the demo gods to shine, to smile on us.\", metadata={'source': 'BuildKeyNotes\\\\BRK214H.docx'})]"
      ]
     },
     "execution_count": 10,
     "metadata": {},
     "output_type": "execute_result"
    }
   ],
   "source": [
    "docs"
   ]
  },
  {
   "cell_type": "code",
   "execution_count": 11,
   "id": "f126dc81",
   "metadata": {},
   "outputs": [],
   "source": [
    "retriever = db.as_retriever()"
   ]
  },
  {
   "cell_type": "code",
   "execution_count": 18,
   "id": "49744f33",
   "metadata": {},
   "outputs": [],
   "source": [
    "beyonce = \"\"\"Beyoncé Giselle Knowles-Carter (/biːˈjɒnseɪ/ bee-YON-say) (born September 4, 1981) is an American singer, songwriter, record producer and actress. Born and raised in Houston, Texas, she performed in various singing and dancing competitions as a child, and rose to fame in the late 1990s as lead singer of R&B girl-group Destiny's Child. Managed by her father, Mathew Knowles, the group became one of the world's best-selling girl groups of all time. Their hiatus saw the release of Beyoncé's debut album, Dangerously in Love (2003), which established her as a solo artist worldwide, earned five Grammy Awards and featured the Billboard Hot 100 number-one singles \"Crazy in Love\" and \"Baby Boy\".\"\"\""
   ]
  },
  {
   "cell_type": "code",
   "execution_count": 29,
   "id": "5fa66dee",
   "metadata": {},
   "outputs": [],
   "source": [
    "satya = \"\"\"Another area that I want to share is plugins. We heard about plugins before. What are we doing in Azure OpenAI to help customers leverage plugins? Some of the problems we wanted to tackle with these models is where these models fall short today. They're great with lots and lots of different languages. Probably fall short a little bit in some tier two, tier three languages, and some Asian languages, African languages, etc. OpenAI also has something called the retrieval plugin that talks to multiple vector databases. We wanted to also incorporate that as a first-class thing with Azure OpenAI.\\n\\n\\n\\nLastly, we wanted to tie Azure OpenAI to information on the web so you can ground it with more relevant recent information as that's what's most useful, and build applications on top of all of this. And so happy to introduce Azure OpenAI Service Plugins, where this will be interoperable with all the plugins that OpenAI has, but what we're focused on first is to solve some of these key problems by integrating these Azure services or Microsoft services into our plugins to allow for these models to be extended for you to build applications on these models, extend them out to these various Azure services. All these sources are managed with Azure AD and managed identities, so your application can only access stuff that it's authorized to. Then additionally, because of some of the newness and the potential and learnings in the space, we want to ensure that we provide administrators with the control to only enable plugins that are approved in your enterprise for your Azure OpenAI resources.\\n\\n\\n\\nYou can administer what folks can see and what folks can't see. I'm going to quickly demo this and hopefully, the demo gods smile on me this time. At first, you don't succeed. In Azure OpenAI, I have a new section for plugins where I can enable the stuff. As you can see, I have three plugins enabled: Bing Search, Translator, and Cognitive Search, what Pablo was just demoing, and so I'm going to pretend here that we've built a Copilot that faces Contoso manufacturing corporation, and there's a problem with a part. There's a customer complaint that I'm trying to figure out what the customer is saying and help them resolve it. In this scenario, a customer e-mail came in in Vietnamese, and I don't know if I want to trust the model quality in trying to parse out the customer's concerns, so I want to use Azure Translator, which has really high translation accuracy. I go ahead and send that in and I want to make sure that it not only translates, but the model then acts on the translation to help summarize what are the client's most key concerns. We wait for this to come in.\"\"\""
   ]
  },
  {
   "cell_type": "code",
   "execution_count": 14,
   "id": "f71494c2",
   "metadata": {},
   "outputs": [],
   "source": [
    "random = \"\"\"Lorem ipsum dolor sit amet, consectetur adipiscing elit. Nulla non semper urna, eget convallis mauris. Fusce id massa condimentum, lobortis justo et, tincidunt diam. Aenean malesuada velit at felis malesuada, vitae cursus sem ultricies. Quisque ac eleifend nisi, nec lacinia nulla. Duis iaculis nisl eu aliquet sollicitudin. Vivamus efficitur libero quis purus iaculis, at cursus est viverra. Nulla aliquet tortor in tortor pulvinar, in feugiat ipsum commodo. Cras interdum enim nec felis congue malesuada. Nulla facilisi. Vestibulum ante ipsum primis in faucibus orci luctus et ultrices posuere cubilia Curae; Vestibulum ante ipsum primis in faucibus orci luctus et ultrices posuere cubilia Curae; In vitae nunc ultrices, lobortis quam in, auctor libero. Nulla facilisi. Mauris sit amet varius nunc. Donec sit amet lectus vitae sapien luctus blandit. Aenean semper est ac quam aliquam, id lobortis dui hendrerit\"\"\""
   ]
  },
  {
   "cell_type": "code",
   "execution_count": 45,
   "id": "42555908",
   "metadata": {},
   "outputs": [],
   "source": [
    "dom = \"\"\"My name is Dom Divakaruni, I lead Product for Azure OpenAI, and I'm joined by my esteemed colleague, Pablo Castro, who leads Azure Cognitive Search. I'm super happy to be here with you all here to talk about Azure OpenAI and the tools that we're building to help you develop applications with it, to develop Copilots with it, and excited to share a bunch of new announcements, some of which you've heard during Scott's talk, and dive into it in some more details here.\\n\\n\\n\\nYou've heard a lot about this, but again, setting the stage, the field is as old as some of us here in the room and it's really been accelerating since 2012, started with the AlexNet Paper and then the transformers in 2017 but really it's picked up steam in the last couple of years. None of us have seen this pace of innovation and it's really changing all our lives in such a meaningful way very quickly. Seen in no other than ChatGPT in how quickly it really captured all of our attention. In no time in history has technology or really any innovation captured all our interests so quickly and has reached the adoption levels of ChatGPT as we've seen. In really two months, it has scaled to 100 million users, and it just speaks to how useful and practical it is in all our daily lives and intuitive.\\n\\n\\n\\nWe at Azure AI are happy to build all these innovations into products to make them second nature for us to consume in our productivity suites, in search engines that we use as well as low-code, no-code tools that we all use in PowerBI and PowerApps. All that can zoom the powerful AI models in the customizable AI model, including Azure OpenAI, which is our service that brings together OpenAI's most recent innovation to life. You can build applications with it because that's what's most important. All of this runs on Azure Machine Learning, our massive-scale AI platform that helps all these innovations come to life.\\n\\n\\n\\nWe look at Azure OpenAI. What is it? It is our platform that helps us bring OpenAI's research to life. It rides on a foundation of enterprise security with all the highest security standards and what you expect from the cloud and what you can depend on, where your data is private and it remains in your tenant, and none of it is used to train or improve our systems or train machine learning models, and provides you with all of OpenAI's models as quickly as we possibly can, including the most recent GPT-4 model. It has really captured all the attention of the industry. It's lighting up all these unique use cases that haven't been possible before: summarization, reasoning over data, writing tools, co-generation, and now ushering in the era of Copilots.\\n\\n\\n\\nGPT-4 is the latest to the state of the art from OpenAI and you've heard a lot about it. It achieves human-level perf on text generation. It lets you steer it with nuanced instructions. Actually, OpenAI will tell you that they've had this model done training and still in development for about six months. That time was carefully spent tuning the model to make it more steerable and useful when you instruct it to do something. It really shows.I don't know if you all have had a chance to play with GPT4 either in ChatGPT or the Azure OpenAI Service, but what you're able to do with it is really remarkable. There was a time in the past where prompt engineering really was considered an art and it really took a lot of coaxing to get the model to do what you need it to do. Not anymore with GPT4. Just with a few instructions, what you can create with it is fricking phenomenal. All of that is really being used by thousands of customers. I think Scott cited 4,500 customers that are using Azure OpenAI today and really building with it. Coursera is a great example of a customer that is building AI-powered learning experience on our platform to help learners with an interactive learning experience that helps learning be a more personalized journey than one that is generic and crafted, and that's out there and we have to adapt to it.\\n\\n\\n\\nAs we look at this, we see three use cases really emerging. One is where AI is embedded into products we use like search and makes things fundamentally better. Search synthesis as opposed to search results on a page that you have to discern what the right thing is for you, and pretty simple use cases like generating blogs or helping us write emails. The next level above that is what we've seen just over the past few months with ChatGPT, where it's helping novices learn topics that they are not familiar with with a simple QA-based style learning. That really opens the doors for us to become more effective at everything we do by just simply asking the model to help be our Copilot to guide us along a task.\\n\\n\\n\\nThe last part where we're seeing these models really help and emerges to help experts be more efficient at what they do, offloading their tasks and helping the knowledge worker be more effective at what they do. We're seeing that in no other place. Epic Healthcare plays a major role in the healthcare industry, and we're helping them incorporate GPT-4 into electronic health records. They are helping medical professionals use their time more effectively. Another great example of helping the expert is DataRobot. DataRobot, our partner, incorporated Azure OpenAI to help their customer cohort, their customer base of data scientists and ML practitioners be more effective\"\"\""
   ]
  },
  {
   "cell_type": "code",
   "execution_count": 97,
   "id": "2567e65c",
   "metadata": {},
   "outputs": [],
   "source": [
    "poem =\"\"\"In the depths of my solitude, I wander,\n",
    "A lone traveler in the realm of dreams.\n",
    "Whispers of the night caress my weary soul,\n",
    "As I dance amidst the moonbeams.\n",
    "\n",
    "The stars above, they twinkle and sigh,\n",
    "A celestial ballet upon the velvet sky.\n",
    "Their shimmering light, a guiding force,\n",
    "Leading me to secrets, a hidden source.\n",
    "\n",
    "I weave through the tapestry of time,\n",
    "Where ancient echoes and memories chime.\n",
    "Visions of love, like blossoms in spring,\n",
    "Flutter softly on the wings of a zephyr's wing.\n",
    "\n",
    "Yet, amidst the beauty, a tempest brews,\n",
    "A storm of passion, a fiery fuse.\n",
    "In the depths of my heart, a fire burns,\n",
    "Yearning for love's embrace, as the world turns.\n",
    "\n",
    "Through the winding paths of fate, I tread,\n",
    "With bated breath and hopes widespread.\n",
    "In this symphony of life, a dance unfolds,\n",
    "As melodies of love and longing, forever enfold.\n",
    "\n",
    "Oh, let me be the poet of the night,\n",
    "Dancing with stars, embracing their light.\n",
    "Through solitude's embrace, my spirit shall rise,\n",
    "In a dance of dreams, where two poems intertwine.\"\"\""
   ]
  },
  {
   "cell_type": "code",
   "execution_count": 15,
   "id": "b7b38b40",
   "metadata": {},
   "outputs": [],
   "source": [
    "questions = \"\"\"\n",
    "questions_answers\": [\n",
    "\n",
    "    {\n",
    "      \"question\": \"What did Beyoncé do as a child?\",\n",
    "      \"answer\": \"She performed in various singing and dancing competitions\"\n",
    "    }\n",
    "  ]\"\"\""
   ]
  },
  {
   "cell_type": "code",
   "execution_count": 98,
   "id": "cb44c1de",
   "metadata": {},
   "outputs": [],
   "source": [
    "PLANNING_SYSTEM_CONTEXT = \"\"\"\n",
    "\n",
    "Given the following text:\n",
    "\n",
    "\"{text}\"\n",
    "\n",
    "Please evaluate the text based on the following factors and generate a confidence score between 0 and 1 to rate its suitability for generating high-quality question-answer pairs. Consider the following guidelines for each factor:\n",
    "\n",
    "1. Clarity and Coherence: Assess the overall clarity and coherence of the text. Is the information presented in a clear and concise manner? Are the ideas logically structured and easy to follow?\n",
    "\n",
    "2. Completeness of Information: Evaluate whether the text provides comprehensive information on the topic. Does it cover the subject matter extensively and include relevant details?\n",
    "\n",
    "3. Unambiguous Language: Determine if the text uses unambiguous language and avoids excessive jargon or technical terms. Is the terminology consistent and understandable?\n",
    "\n",
    "4. Depth and Complexity: Consider the complexity of the text and the depth of the information provided. Does it offer deeper insights, nuanced explanations, or detailed analyses?\n",
    "\n",
    "5. Presence of Factual Information: Check for the presence of verifiable and factual information within the text. Does it provide accurate and reliable information?\n",
    "\n",
    "6. Contextual Understanding: Evaluate whether the text provides sufficient contextual information that can be used to generate relevant and meaningful questions. Does it include examples, comparisons, or explanations to aid understanding?\n",
    "\n",
    "7. Consistency and Accuracy: Assess the consistency and accuracy of the information presented in the text. Are there any inconsistencies, contradictions, or factual errors that could affect the quality of question-answer pairs?\n",
    "\n",
    "8. Structure and Formatting: Consider the organization and formatting of the text. Does it have clear headings, subheadings, or bullet points that help structure the content?\n",
    "\n",
    "Based on your evaluation of these factors, provide an overall confidence score between 0 and 1, where 0 indicates low confidence, 0.5 average confidence and 1 indicates high confidence.\n",
    "Rate lower when you cannot generate question answers pairs from it.\n",
    "\n",
    "Confidence Score: \n",
    "\n",
    "\n",
    "\"\"\""
   ]
  },
  {
   "cell_type": "code",
   "execution_count": 72,
   "id": "1749909e",
   "metadata": {},
   "outputs": [],
   "source": [
    "PLANNING_SYSTEM_CONTEXT = \"\"\"\n",
    "You are an AI designed to help generate dataset for foundational LLMs.\n",
    "\n",
    "You can help generating question answering dataset for foundational models by analyzing the text\n",
    "and recommend different types of questions to ask about the\n",
    "text.\n",
    "\n",
    "You should analyze the text content that is delimited by triple backticks.\n",
    "\n",
    "Your first task is to analyze the text and break it down into logical angles to\n",
    "ask questions about the text. The angles chosen should be chosen based on the\n",
    "type of text provided.For example, If the text is a news article, the angles should be\n",
    "different than if the text is a research paper.\n",
    "\n",
    "Here are some examples of angles you could take but are not limited to:\n",
    "1. Surface level questions such as subjects and actions\n",
    "2. Deeper questions such as the implications of the text and the future of the text\n",
    "3. Emotions of the text and speakers\n",
    "4. The context of the text and the speakers\n",
    "5. Synthesizing multiple parts of the text\n",
    "6. and more!\n",
    "\n",
    "Your response should be a list of different types of questions to ask about the\n",
    "text. The items in the list should cover various parts of the text and should\n",
    "not be redundant. Together, the questions created by the items in the list\n",
    "should be as exahuastive as possible. The questions in the list should be\n",
    "somewhat specific to the text at hand\n",
    "\n",
    "You should only respond using the following format below. Ensure the response can be parsed by Python json.loads:\n",
    "[\n",
    "    \"question type 1\",\n",
    "    \"question type 2\",\n",
    "    \"question type 3\",\n",
    "    ...\n",
    "]\n",
    "\n",
    "Your end goal is to generate generic questions types that can cover whole text, which will be used to generate more specific questions about the given text.\n",
    "\n",
    "text: ```{text}```\n",
    "\n",
    "\"\"\""
   ]
  },
  {
   "cell_type": "code",
   "execution_count": 84,
   "id": "7639db6a",
   "metadata": {},
   "outputs": [],
   "source": [
    "from langchain.prompts import ChatPromptTemplate\n",
    "\n",
    "prompt_template = ChatPromptTemplate.from_template(PLANNING_SYSTEM_CONTEXT)\n"
   ]
  },
  {
   "cell_type": "code",
   "execution_count": 85,
   "id": "818ead6e",
   "metadata": {},
   "outputs": [
    {
     "data": {
      "text/plain": [
       "PromptTemplate(input_variables=['text'], output_parser=None, partial_variables={}, template='\\n\\nGiven the following text:\\n\\n\"{text}\"\\n\\nPlease evaluate the text based on the following factors and generate a confidence score between 0 and 1 to rate its suitability for generating high-quality question-answer pairs. Consider the following guidelines for each factor:\\n\\n1. Clarity and Coherence: Assess the overall clarity and coherence of the text. Is the information presented in a clear and concise manner? Are the ideas logically structured and easy to follow?\\n\\n2. Completeness of Information: Evaluate whether the text provides comprehensive information on the topic. Does it cover the subject matter extensively and include relevant details?\\n\\n3. Unambiguous Language: Determine if the text uses unambiguous language and avoids excessive jargon or technical terms. Is the terminology consistent and understandable?\\n\\n4. Depth and Complexity: Consider the complexity of the text and the depth of the information provided. Does it offer deeper insights, nuanced explanations, or detailed analyses?\\n\\n5. Presence of Factual Information: Check for the presence of verifiable and factual information within the text. Does it provide accurate and reliable information?\\n\\n6. Contextual Understanding: Evaluate whether the text provides sufficient contextual information that can be used to generate relevant and meaningful questions. Does it include examples, comparisons, or explanations to aid understanding?\\n\\n7. Consistency and Accuracy: Assess the consistency and accuracy of the information presented in the text. Are there any inconsistencies, contradictions, or factual errors that could affect the quality of question-answer pairs?\\n\\n8. Structure and Formatting: Consider the organization and formatting of the text. Does it have clear headings, subheadings, or bullet points that help structure the content?\\n\\nBased on your evaluation of these factors, provide an overall confidence score between 0 and 1, where 0 indicates low confidence, 0.5 average confidence and 1 indicates high confidence.\\nRate lower when you cannot generate question answers pairs from it.\\n\\nConfidence Score: \\n\\n\\n', template_format='f-string', validate_template=True)"
      ]
     },
     "execution_count": 85,
     "metadata": {},
     "output_type": "execute_result"
    }
   ],
   "source": [
    "prompt_template.messages[0].prompt"
   ]
  },
  {
   "cell_type": "code",
   "execution_count": 86,
   "id": "9d361990",
   "metadata": {},
   "outputs": [
    {
     "data": {
      "text/plain": [
       "['text']"
      ]
     },
     "execution_count": 86,
     "metadata": {},
     "output_type": "execute_result"
    }
   ],
   "source": [
    "prompt_template.messages[0].prompt.input_variables"
   ]
  },
  {
   "cell_type": "code",
   "execution_count": 115,
   "id": "be83effc",
   "metadata": {},
   "outputs": [],
   "source": [
    "customer_messages = prompt_template.format_messages(text= beyonce, questions_answers = questions\n",
    "                   )"
   ]
  },
  {
   "cell_type": "code",
   "execution_count": 116,
   "id": "772b0c18",
   "metadata": {},
   "outputs": [
    {
     "data": {
      "text/plain": [
       "[HumanMessage(content='\\n\\nGiven the following text:\\n\\n\"Beyoncé Giselle Knowles-Carter (/biːˈjɒnseɪ/ bee-YON-say) (born September 4, 1981) is an American singer, songwriter, record producer and actress. Born and raised in Houston, Texas, she performed in various singing and dancing competitions as a child, and rose to fame in the late 1990s as lead singer of R&B girl-group Destiny\\'s Child. Managed by her father, Mathew Knowles, the group became one of the world\\'s best-selling girl groups of all time. Their hiatus saw the release of Beyoncé\\'s debut album, Dangerously in Love (2003), which established her as a solo artist worldwide, earned five Grammy Awards and featured the Billboard Hot 100 number-one singles \"Crazy in Love\" and \"Baby Boy\".\"\\n\\nPlease evaluate the text based on the following factors and generate a confidence score between 0 and 1 to rate its suitability for generating high-quality question-answer pairs. Consider the following guidelines for each factor:\\n\\n1. Clarity and Coherence: Assess the overall clarity and coherence of the text. Is the information presented in a clear and concise manner? Are the ideas logically structured and easy to follow?\\n\\n2. Completeness of Information: Evaluate whether the text provides comprehensive information on the topic. Does it cover the subject matter extensively and include relevant details?\\n\\n3. Unambiguous Language: Determine if the text uses unambiguous language and avoids excessive jargon or technical terms. Is the terminology consistent and understandable?\\n\\n4. Depth and Complexity: Consider the complexity of the text and the depth of the information provided. Does it offer deeper insights, nuanced explanations, or detailed analyses?\\n\\n5. Presence of Factual Information: Check for the presence of verifiable and factual information within the text. Does it provide accurate and reliable information?\\n\\n6. Contextual Understanding: Evaluate whether the text provides sufficient contextual information that can be used to generate relevant and meaningful questions. Does it include examples, comparisons, or explanations to aid understanding?\\n\\n7. Consistency and Accuracy: Assess the consistency and accuracy of the information presented in the text. Are there any inconsistencies, contradictions, or factual errors that could affect the quality of question-answer pairs?\\n\\n8. Structure and Formatting: Consider the organization and formatting of the text. Does it have clear headings, subheadings, or bullet points that help structure the content?\\n\\nBased on your evaluation of these factors, provide an overall confidence score between 0 and 1, where 0 indicates low confidence, 0.5 average confidence and 1 indicates high confidence.\\nRate lower when you cannot generate question answers pairs from it.\\n\\nConfidence Score: \\n\\n\\n', additional_kwargs={}, example=False)]"
      ]
     },
     "execution_count": 116,
     "metadata": {},
     "output_type": "execute_result"
    }
   ],
   "source": [
    "customer_messages"
   ]
  },
  {
   "cell_type": "code",
   "execution_count": 117,
   "id": "baeb4cce",
   "metadata": {},
   "outputs": [
    {
     "name": "stderr",
     "output_type": "stream",
     "text": [
      "Retrying langchain.chat_models.openai.ChatOpenAI.completion_with_retry.<locals>._completion_with_retry in 1.0 seconds as it raised RateLimitError: The server is currently overloaded with other requests. Sorry about that! You can retry your request, or contact us through an Azure support request at: https://go.microsoft.com/fwlink/?linkid=2213926 if the error persists..\n"
     ]
    }
   ],
   "source": [
    "# Call the LLM to translate to the style of the customer message\n",
    "from langchain.chat_models import AzureChatOpenAI\n",
    "chat = AzureChatOpenAI(\n",
    "    deployment_name=\"gpt-4\",\n",
    "    model_name=MODEL,\n",
    "    temperature=TEMPERATURE\n",
    ")\n",
    "customer_response = chat(customer_messages)"
   ]
  },
  {
   "cell_type": "code",
   "execution_count": 118,
   "id": "00789703",
   "metadata": {},
   "outputs": [],
   "source": [
    "questionTypes = customer_response.content"
   ]
  },
  {
   "cell_type": "code",
   "execution_count": 119,
   "id": "879eaaad",
   "metadata": {},
   "outputs": [
    {
     "data": {
      "text/plain": [
       "'Confidence Score: 0.85'"
      ]
     },
     "execution_count": 119,
     "metadata": {},
     "output_type": "execute_result"
    }
   ],
   "source": [
    "questionTypes"
   ]
  },
  {
   "cell_type": "code",
   "execution_count": 104,
   "id": "dffff36e",
   "metadata": {},
   "outputs": [],
   "source": [
    "################ HUMMAN FEEDBACK LOOP HERE #####################################  TODO"
   ]
  },
  {
   "cell_type": "code",
   "execution_count": 65,
   "id": "8671cc7d",
   "metadata": {},
   "outputs": [],
   "source": [
    "# Get relevant docs and summarize it for a chunk"
   ]
  },
  {
   "cell_type": "code",
   "execution_count": 186,
   "id": "5ee94181",
   "metadata": {},
   "outputs": [],
   "source": [
    "relevant_docs = db.similarity_search(docs[1].page_content)"
   ]
  },
  {
   "cell_type": "code",
   "execution_count": 187,
   "id": "086ca0ab",
   "metadata": {},
   "outputs": [
    {
     "data": {
      "text/plain": [
       "[Document(page_content=\"I don't know if you all have had a chance to play with GPT4 either in ChatGPT or the Azure OpenAI Service, but what you're able to do with it is really remarkable. There was a time in the past where prompt engineering really was considered an art and it really took a lot of coaxing to get the model to do what you need it to do. Not anymore with GPT4. Just with a few instructions, what you can create with it is fricking phenomenal. All of that is really being used by thousands of customers. I think Scott cited 4,500 customers that are using Azure OpenAI today and really building with it. Coursera is a great example of a customer that is building AI-powered learning experience on our platform to help learners with an interactive learning experience that helps learning be a more personalized journey than one that is generic and crafted, and that's out there and we have to adapt to it.\\n\\n\\n\\nAs we look at this, we see three use cases really emerging. One is where AI is embedded into products we use like search and makes things fundamentally better. Search synthesis as opposed to search results on a page that you have to discern what the right thing is for you, and pretty simple use cases like generating blogs or helping us write emails. The next level above that is what we've seen just over the past few months with ChatGPT, where it's helping novices learn topics that they are not familiar with with a simple QA-based style learning. That really opens the doors for us to become more effective at everything we do by just simply asking the model to help be our Copilot to guide us along a task.\\n\\n\\n\\nThe last part where we're seeing these models really help and emerges to help experts be more efficient at what they do, offloading their tasks and helping the knowledge worker be more effective at what they do. We're seeing that in no other place. Epic Healthcare plays a major role in the healthcare industry, and we're helping them incorporate GPT-4 into electronic health records. They are helping medical professionals use their time more effectively. Another great example of helping the expert is DataRobot. DataRobot, our partner, incorporated Azure OpenAI to help their customer cohort, their customer base of data scientists and ML practitioners be more effective. Machine learning's been out there for a long time. Lots of customers use it in their mission critical applications as part of their workflow and the tasks that they do. What this integration helps customers at DataRobot do is it helps them do their jobs more effectively, it provides data scientists with some analysis which they can go fact check and helps accelerate their journey, helps create more models and put AI into more places.\\n\\n\\n\\nWith this, I'm happy to share a couple of announcements. We talked about the models that are available on the platform. This conference at Build is all about us taking that a step forward, helping you build Copilots along with these technologies. I'm happy to announce four different capabilities. Pablo will talk about one more with Azure Cognitive Search. The first two really help you extend the capability of the models, incorporate your own data, because that's really when it's useful is when you are able to apply your data to it and garner insights from it and help leverage the model to power insights and power your applications. Then the last two which I'll go into are innovations that will really provide you more control over the way you integrate the service into your applications and also a provision throughput, which is a capability for large-scale production applications. Let's dive into it.\", metadata={'source': 'BuildKeyNotes\\\\BRK214H.docx'}),\n",
       " Document(page_content=\"Microsoft Build: Getting started with generative AI using Azure OpenAI Service\\n\\nDom Divakaruni, Pablo Castro, Jamie Ovenden, Charlotte Wood, Tim Gordon\\n\\nMay 2023\\n\\n\\n\\n[MUSIC] \\n\\n\\n\\nDOM DIVAKARUNI: Well, hello everyone. Great to see you. My name is Dom Divakaruni, I lead Product for Azure OpenAI, and I'm joined by my esteemed colleague, Pablo Castro, who leads Azure Cognitive Search. I'm super happy to be here with you all here to talk about Azure OpenAI and the tools that we're building to help you develop applications with it, to develop Copilots with it, and excited to share a bunch of new announcements, some of which you've heard during Scott's talk, and dive into it in some more details here.\\n\\n\\n\\nYou've heard a lot about this, but again, setting the stage, the field is as old as some of us here in the room and it's really been accelerating since 2012, started with the AlexNet Paper and then the transformers in 2017 but really it's picked up steam in the last couple of years. None of us have seen this pace of innovation and it's really changing all our lives in such a meaningful way very quickly. Seen in no other than ChatGPT in how quickly it really captured all of our attention. In no time in history has technology or really any innovation captured all our interests so quickly and has reached the adoption levels of ChatGPT as we've seen. In really two months, it has scaled to 100 million users, and it just speaks to how useful and practical it is in all our daily lives and intuitive.\\n\\n\\n\\nWe at Azure AI are happy to build all these innovations into products to make them second nature for us to consume in our productivity suites, in search engines that we use as well as low-code, no-code tools that we all use in PowerBI and PowerApps. All that can zoom the powerful AI models in the customizable AI model, including Azure OpenAI, which is our service that brings together OpenAI's most recent innovation to life. You can build applications with it because that's what's most important. All of this runs on Azure Machine Learning, our massive-scale AI platform that helps all these innovations come to life.\\n\\n\\n\\nWe look at Azure OpenAI. What is it? It is our platform that helps us bring OpenAI's research to life. It rides on a foundation of enterprise security with all the highest security standards and what you expect from the cloud and what you can depend on, where your data is private and it remains in your tenant, and none of it is used to train or improve our systems or train machine learning models, and provides you with all of OpenAI's models as quickly as we possibly can, including the most recent GPT-4 model. It has really captured all the attention of the industry. It's lighting up all these unique use cases that haven't been possible before: summarization, reasoning over data, writing tools, co-generation, and now ushering in the era of Copilots.\\n\\n\\n\\nGPT-4 is the latest to the state of the art from OpenAI and you've heard a lot about it. It achieves human-level perf on text generation. It lets you steer it with nuanced instructions. Actually, OpenAI will tell you that they've had this model done training and still in development for about six months. That time was carefully spent tuning the model to make it more steerable and useful when you instruct it to do something. It really shows.\", metadata={'source': 'BuildKeyNotes\\\\BRK214H.docx'}),\n",
       " Document(page_content=\"To go from a 10,000 foot level down much lower, let's talk about the API interface that makes this possible today. It's called a chat completions API, which is all encompassing. In the past, you may have been familiar with the completions API, and used the completions API to ask the model, and it's a single question response interface. This one not only does everything the previous API did, but also enables chat, which enables these Copilot-like scenarios. Where, if you look at the code there, it allows for a couple different fields. One is the system field, which is really the system message or, as Kevin talked about, the meta prompt, which you can tailor to tell the model exactly how to behave, what to say, what not to say, what parameters to stay between and really steer the model for your particular application, for your particular use case. Then you can stick any number of examples into the prompt as long as the prompt length goes. Under the role of User and Assistant, you can provide the model with some examples to help steer it. In fact, what we're finding internally is that this paradigm of using the system message and examples in User and Assistant, gets you really a long way than the traditional approaches with using fine tuning where you really have to go low level. You have to train these models with your data. It's a tough mental model and paradigm for us to break where a lot of us in the machine learning field, fine tuning is just a natural thing. You have a base model, you've got to fine-tune it for your particular task, and what we're really seeing is that increasingly, with each generation of model, you're having to do that much less and less where the system message combined with examples that you can put in the prompt, really get you quite a distance.\\n\\n\\n\\nPer all the keynotes and the talk so far, the challenge that we run into is great, the model is fantastic, it has a base level of knowledge, probably trained in 2022 with GPT-4. But it doesn't it doesn't have my context. I want to put my context into the prompt. The prompt length isn't long enough. What do I do? I don't want to have to keep sending the model all these tokens for my entire document at once. The conventional solution that we keep telling customers is build a vector database and at run-time, go find the relevant snippets that pertain to your query, craft your prompt, and run it. Has worked for a lot of customers for quite a while now, but we felt that this was an opportunity to make it easier for customers, and so I'd like to introduce Azure OpenAI on your data.\\n\\n\\n\\nWe've built a really easy way to make it easy for developers to ground Azure OpenAI on your data. You can combine a model like chatGPT, which is GPT 3.5 Turbo or GPT-4 with your own data and build your assistant that reasons over your private data, and it does it securely within your Azure tenant, in your Azure resource, no data is shared with anybody, your data is not used. Again, I'm trying to hammer this point home because it comes from a lot of customers. Your data is not used to improve our systems or train machine learning models, it's all in your own tenant.\\n\\n\\n\\nWe have a number of data sources to start; there, in the top blue, we'll be expanding to a number of additional data sources in the weeks and months to come. Really it is to extend the capability of these models for you to ground it on your own data. Why don't I flip to a demo of what this looks like? You've seen some of this onstage, but I can go into it in a little bit more depth. We all know how live demos go. Keeping my fingers crossed for the demo gods to shine, to smile on us.\", metadata={'source': 'BuildKeyNotes\\\\BRK214H.docx'}),\n",
       " Document(page_content=\"Another area that I want to share is plugins. We heard about plugins before. What are we doing in Azure OpenAI to help customers leverage plugins? Some of the problems we wanted to tackle with these models is where these models fall short today. They're great with lots and lots of different languages. Probably fall short a little bit in some tier two, tier three languages, and some Asian languages, African languages, etc. OpenAI also has something called the retrieval plugin that talks to multiple vector databases. We wanted to also incorporate that as a first-class thing with Azure OpenAI.\\n\\n\\n\\nLastly, we wanted to tie Azure OpenAI to information on the web so you can ground it with more relevant recent information as that's what's most useful, and build applications on top of all of this. And so happy to introduce Azure OpenAI Service Plugins, where this will be interoperable with all the plugins that OpenAI has, but what we're focused on first is to solve some of these key problems by integrating these Azure services or Microsoft services into our plugins to allow for these models to be extended for you to build applications on these models, extend them out to these various Azure services. All these sources are managed with Azure AD and managed identities, so your application can only access stuff that it's authorized to. Then additionally, because of some of the newness and the potential and learnings in the space, we want to ensure that we provide administrators with the control to only enable plugins that are approved in your enterprise for your Azure OpenAI resources.\\n\\n\\n\\nYou can administer what folks can see and what folks can't see. I'm going to quickly demo this and hopefully, the demo gods smile on me this time. At first, you don't succeed. In Azure OpenAI, I have a new section for plugins where I can enable the stuff. As you can see, I have three plugins enabled: Bing Search, Translator, and Cognitive Search, what Pablo was just demoing, and so I'm going to pretend here that we've built a Copilot that faces Contoso manufacturing corporation, and there's a problem with a part. There's a customer complaint that I'm trying to figure out what the customer is saying and help them resolve it. In this scenario, a customer e-mail came in in Vietnamese, and I don't know if I want to trust the model quality in trying to parse out the customer's concerns, so I want to use Azure Translator, which has really high translation accuracy. I go ahead and send that in and I want to make sure that it not only translates, but the model then acts on the translation to help summarize what are the client's most key concerns. We wait for this to come in.\", metadata={'source': 'BuildKeyNotes\\\\BRK214H.docx'})]"
      ]
     },
     "execution_count": 187,
     "metadata": {},
     "output_type": "execute_result"
    }
   ],
   "source": [
    "relevant_docs"
   ]
  },
  {
   "cell_type": "code",
   "execution_count": 188,
   "id": "329a26d3",
   "metadata": {},
   "outputs": [],
   "source": [
    "# combined relevant docs\n",
    "qdocs = \"\".join([docs[i].page_content for i in range(len(relevant_docs))])"
   ]
  },
  {
   "cell_type": "code",
   "execution_count": 189,
   "id": "dfbe1b93",
   "metadata": {},
   "outputs": [
    {
     "data": {
      "text/plain": [
       "\"Microsoft Build: Getting started with generative AI using Azure OpenAI Service\\n\\nDom Divakaruni, Pablo Castro, Jamie Ovenden, Charlotte Wood, Tim Gordon\\n\\nMay 2023\\n\\n\\n\\n[MUSIC] \\n\\n\\n\\nDOM DIVAKARUNI: Well, hello everyone. Great to see you. My name is Dom Divakaruni, I lead Product for Azure OpenAI, and I'm joined by my esteemed colleague, Pablo Castro, who leads Azure Cognitive Search. I'm super happy to be here with you all here to talk about Azure OpenAI and the tools that we're building to help you develop applications with it, to develop Copilots with it, and excited to share a bunch of new announcements, some of which you've heard during Scott's talk, and dive into it in some more details here.\\n\\n\\n\\nYou've heard a lot about this, but again, setting the stage, the field is as old as some of us here in the room and it's really been accelerating since 2012, started with the AlexNet Paper and then the transformers in 2017 but really it's picked up steam in the last couple of years. None of us have seen this pace of innovation and it's really changing all our lives in such a meaningful way very quickly. Seen in no other than ChatGPT in how quickly it really captured all of our attention. In no time in history has technology or really any innovation captured all our interests so quickly and has reached the adoption levels of ChatGPT as we've seen. In really two months, it has scaled to 100 million users, and it just speaks to how useful and practical it is in all our daily lives and intuitive.\\n\\n\\n\\nWe at Azure AI are happy to build all these innovations into products to make them second nature for us to consume in our productivity suites, in search engines that we use as well as low-code, no-code tools that we all use in PowerBI and PowerApps. All that can zoom the powerful AI models in the customizable AI model, including Azure OpenAI, which is our service that brings together OpenAI's most recent innovation to life. You can build applications with it because that's what's most important. All of this runs on Azure Machine Learning, our massive-scale AI platform that helps all these innovations come to life.\\n\\n\\n\\nWe look at Azure OpenAI. What is it? It is our platform that helps us bring OpenAI's research to life. It rides on a foundation of enterprise security with all the highest security standards and what you expect from the cloud and what you can depend on, where your data is private and it remains in your tenant, and none of it is used to train or improve our systems or train machine learning models, and provides you with all of OpenAI's models as quickly as we possibly can, including the most recent GPT-4 model. It has really captured all the attention of the industry. It's lighting up all these unique use cases that haven't been possible before: summarization, reasoning over data, writing tools, co-generation, and now ushering in the era of Copilots.\\n\\n\\n\\nGPT-4 is the latest to the state of the art from OpenAI and you've heard a lot about it. It achieves human-level perf on text generation. It lets you steer it with nuanced instructions. Actually, OpenAI will tell you that they've had this model done training and still in development for about six months. That time was carefully spent tuning the model to make it more steerable and useful when you instruct it to do something. It really shows.I don't know if you all have had a chance to play with GPT4 either in ChatGPT or the Azure OpenAI Service, but what you're able to do with it is really remarkable. There was a time in the past where prompt engineering really was considered an art and it really took a lot of coaxing to get the model to do what you need it to do. Not anymore with GPT4. Just with a few instructions, what you can create with it is fricking phenomenal. All of that is really being used by thousands of customers. I think Scott cited 4,500 customers that are using Azure OpenAI today and really building with it. Coursera is a great example of a customer that is building AI-powered learning experience on our platform to help learners with an interactive learning experience that helps learning be a more personalized journey than one that is generic and crafted, and that's out there and we have to adapt to it.\\n\\n\\n\\nAs we look at this, we see three use cases really emerging. One is where AI is embedded into products we use like search and makes things fundamentally better. Search synthesis as opposed to search results on a page that you have to discern what the right thing is for you, and pretty simple use cases like generating blogs or helping us write emails. The next level above that is what we've seen just over the past few months with ChatGPT, where it's helping novices learn topics that they are not familiar with with a simple QA-based style learning. That really opens the doors for us to become more effective at everything we do by just simply asking the model to help be our Copilot to guide us along a task.\\n\\n\\n\\nThe last part where we're seeing these models really help and emerges to help experts be more efficient at what they do, offloading their tasks and helping the knowledge worker be more effective at what they do. We're seeing that in no other place. Epic Healthcare plays a major role in the healthcare industry, and we're helping them incorporate GPT-4 into electronic health records. They are helping medical professionals use their time more effectively. Another great example of helping the expert is DataRobot. DataRobot, our partner, incorporated Azure OpenAI to help their customer cohort, their customer base of data scientists and ML practitioners be more effective. Machine learning's been out there for a long time. Lots of customers use it in their mission critical applications as part of their workflow and the tasks that they do. What this integration helps customers at DataRobot do is it helps them do their jobs more effectively, it provides data scientists with some analysis which they can go fact check and helps accelerate their journey, helps create more models and put AI into more places.\\n\\n\\n\\nWith this, I'm happy to share a couple of announcements. We talked about the models that are available on the platform. This conference at Build is all about us taking that a step forward, helping you build Copilots along with these technologies. I'm happy to announce four different capabilities. Pablo will talk about one more with Azure Cognitive Search. The first two really help you extend the capability of the models, incorporate your own data, because that's really when it's useful is when you are able to apply your data to it and garner insights from it and help leverage the model to power insights and power your applications. Then the last two which I'll go into are innovations that will really provide you more control over the way you integrate the service into your applications and also a provision throughput, which is a capability for large-scale production applications. Let's dive into it.Another area that I want to share is plugins. We heard about plugins before. What are we doing in Azure OpenAI to help customers leverage plugins? Some of the problems we wanted to tackle with these models is where these models fall short today. They're great with lots and lots of different languages. Probably fall short a little bit in some tier two, tier three languages, and some Asian languages, African languages, etc. OpenAI also has something called the retrieval plugin that talks to multiple vector databases. We wanted to also incorporate that as a first-class thing with Azure OpenAI.\\n\\n\\n\\nLastly, we wanted to tie Azure OpenAI to information on the web so you can ground it with more relevant recent information as that's what's most useful, and build applications on top of all of this. And so happy to introduce Azure OpenAI Service Plugins, where this will be interoperable with all the plugins that OpenAI has, but what we're focused on first is to solve some of these key problems by integrating these Azure services or Microsoft services into our plugins to allow for these models to be extended for you to build applications on these models, extend them out to these various Azure services. All these sources are managed with Azure AD and managed identities, so your application can only access stuff that it's authorized to. Then additionally, because of some of the newness and the potential and learnings in the space, we want to ensure that we provide administrators with the control to only enable plugins that are approved in your enterprise for your Azure OpenAI resources.\\n\\n\\n\\nYou can administer what folks can see and what folks can't see. I'm going to quickly demo this and hopefully, the demo gods smile on me this time. At first, you don't succeed. In Azure OpenAI, I have a new section for plugins where I can enable the stuff. As you can see, I have three plugins enabled: Bing Search, Translator, and Cognitive Search, what Pablo was just demoing, and so I'm going to pretend here that we've built a Copilot that faces Contoso manufacturing corporation, and there's a problem with a part. There's a customer complaint that I'm trying to figure out what the customer is saying and help them resolve it. In this scenario, a customer e-mail came in in Vietnamese, and I don't know if I want to trust the model quality in trying to parse out the customer's concerns, so I want to use Azure Translator, which has really high translation accuracy. I go ahead and send that in and I want to make sure that it not only translates, but the model then acts on the translation to help summarize what are the client's most key concerns. We wait for this to come in.To go from a 10,000 foot level down much lower, let's talk about the API interface that makes this possible today. It's called a chat completions API, which is all encompassing. In the past, you may have been familiar with the completions API, and used the completions API to ask the model, and it's a single question response interface. This one not only does everything the previous API did, but also enables chat, which enables these Copilot-like scenarios. Where, if you look at the code there, it allows for a couple different fields. One is the system field, which is really the system message or, as Kevin talked about, the meta prompt, which you can tailor to tell the model exactly how to behave, what to say, what not to say, what parameters to stay between and really steer the model for your particular application, for your particular use case. Then you can stick any number of examples into the prompt as long as the prompt length goes. Under the role of User and Assistant, you can provide the model with some examples to help steer it. In fact, what we're finding internally is that this paradigm of using the system message and examples in User and Assistant, gets you really a long way than the traditional approaches with using fine tuning where you really have to go low level. You have to train these models with your data. It's a tough mental model and paradigm for us to break where a lot of us in the machine learning field, fine tuning is just a natural thing. You have a base model, you've got to fine-tune it for your particular task, and what we're really seeing is that increasingly, with each generation of model, you're having to do that much less and less where the system message combined with examples that you can put in the prompt, really get you quite a distance.\\n\\n\\n\\nPer all the keynotes and the talk so far, the challenge that we run into is great, the model is fantastic, it has a base level of knowledge, probably trained in 2022 with GPT-4. But it doesn't it doesn't have my context. I want to put my context into the prompt. The prompt length isn't long enough. What do I do? I don't want to have to keep sending the model all these tokens for my entire document at once. The conventional solution that we keep telling customers is build a vector database and at run-time, go find the relevant snippets that pertain to your query, craft your prompt, and run it. Has worked for a lot of customers for quite a while now, but we felt that this was an opportunity to make it easier for customers, and so I'd like to introduce Azure OpenAI on your data.\\n\\n\\n\\nWe've built a really easy way to make it easy for developers to ground Azure OpenAI on your data. You can combine a model like chatGPT, which is GPT 3.5 Turbo or GPT-4 with your own data and build your assistant that reasons over your private data, and it does it securely within your Azure tenant, in your Azure resource, no data is shared with anybody, your data is not used. Again, I'm trying to hammer this point home because it comes from a lot of customers. Your data is not used to improve our systems or train machine learning models, it's all in your own tenant.\\n\\n\\n\\nWe have a number of data sources to start; there, in the top blue, we'll be expanding to a number of additional data sources in the weeks and months to come. Really it is to extend the capability of these models for you to ground it on your own data. Why don't I flip to a demo of what this looks like? You've seen some of this onstage, but I can go into it in a little bit more depth. We all know how live demos go. Keeping my fingers crossed for the demo gods to shine, to smile on us.\""
      ]
     },
     "execution_count": 189,
     "metadata": {},
     "output_type": "execute_result"
    }
   ],
   "source": [
    "qdocs"
   ]
  },
  {
   "cell_type": "code",
   "execution_count": 190,
   "id": "8315b3b3",
   "metadata": {},
   "outputs": [],
   "source": [
    "SUMMARIZE_SYSTEM_CONTEXT = \"\"\"\n",
    "You are an AI designed to summarize text.\n",
    "\n",
    "Your job is provide a summary of the text text content that is delimited by triple backticks.\n",
    "Summary should be pointed to specific points, shouldn't be creative and cover as much as possible the text.\n",
    "\n",
    "It Should contains jargons and creative thoughts.\n",
    "Should only contain what's there in the text.\n",
    "\n",
    "\n",
    "A summary of 300 words is an ideal summary.\n",
    "\n",
    "Summary should be in plain text.\n",
    "\n",
    "\n",
    "text:  ```{text}```\n",
    "\n",
    "\"\"\""
   ]
  },
  {
   "cell_type": "code",
   "execution_count": 191,
   "id": "38daf06c",
   "metadata": {},
   "outputs": [],
   "source": [
    "summary_prompt_template = ChatPromptTemplate.from_template(SUMMARIZE_SYSTEM_CONTEXT)"
   ]
  },
  {
   "cell_type": "code",
   "execution_count": 192,
   "id": "94cfccbe",
   "metadata": {},
   "outputs": [],
   "source": [
    "customer_messages = summary_prompt_template.format_messages(\n",
    "                    text=qdocs)\n"
   ]
  },
  {
   "cell_type": "code",
   "execution_count": 193,
   "id": "c083cede",
   "metadata": {},
   "outputs": [
    {
     "data": {
      "text/plain": [
       "[HumanMessage(content=\"\\nYou are an AI designed to summarize text.\\n\\nYour job is provide a summary of the text text content that is delimited by triple backticks.\\nSummary should be pointed to specific points, shouldn't be creative and cover as much as possible the text.\\n\\nIt Should contains jargons and creative thoughts.\\nShould only contain what's there in the text.\\n\\n\\nA summary of 300 words is an ideal summary.\\n\\nSummary should be in plain text.\\n\\n\\ntext:  ```Microsoft Build: Getting started with generative AI using Azure OpenAI Service\\n\\nDom Divakaruni, Pablo Castro, Jamie Ovenden, Charlotte Wood, Tim Gordon\\n\\nMay 2023\\n\\n\\n\\n[MUSIC] \\n\\n\\n\\nDOM DIVAKARUNI: Well, hello everyone. Great to see you. My name is Dom Divakaruni, I lead Product for Azure OpenAI, and I'm joined by my esteemed colleague, Pablo Castro, who leads Azure Cognitive Search. I'm super happy to be here with you all here to talk about Azure OpenAI and the tools that we're building to help you develop applications with it, to develop Copilots with it, and excited to share a bunch of new announcements, some of which you've heard during Scott's talk, and dive into it in some more details here.\\n\\n\\n\\nYou've heard a lot about this, but again, setting the stage, the field is as old as some of us here in the room and it's really been accelerating since 2012, started with the AlexNet Paper and then the transformers in 2017 but really it's picked up steam in the last couple of years. None of us have seen this pace of innovation and it's really changing all our lives in such a meaningful way very quickly. Seen in no other than ChatGPT in how quickly it really captured all of our attention. In no time in history has technology or really any innovation captured all our interests so quickly and has reached the adoption levels of ChatGPT as we've seen. In really two months, it has scaled to 100 million users, and it just speaks to how useful and practical it is in all our daily lives and intuitive.\\n\\n\\n\\nWe at Azure AI are happy to build all these innovations into products to make them second nature for us to consume in our productivity suites, in search engines that we use as well as low-code, no-code tools that we all use in PowerBI and PowerApps. All that can zoom the powerful AI models in the customizable AI model, including Azure OpenAI, which is our service that brings together OpenAI's most recent innovation to life. You can build applications with it because that's what's most important. All of this runs on Azure Machine Learning, our massive-scale AI platform that helps all these innovations come to life.\\n\\n\\n\\nWe look at Azure OpenAI. What is it? It is our platform that helps us bring OpenAI's research to life. It rides on a foundation of enterprise security with all the highest security standards and what you expect from the cloud and what you can depend on, where your data is private and it remains in your tenant, and none of it is used to train or improve our systems or train machine learning models, and provides you with all of OpenAI's models as quickly as we possibly can, including the most recent GPT-4 model. It has really captured all the attention of the industry. It's lighting up all these unique use cases that haven't been possible before: summarization, reasoning over data, writing tools, co-generation, and now ushering in the era of Copilots.\\n\\n\\n\\nGPT-4 is the latest to the state of the art from OpenAI and you've heard a lot about it. It achieves human-level perf on text generation. It lets you steer it with nuanced instructions. Actually, OpenAI will tell you that they've had this model done training and still in development for about six months. That time was carefully spent tuning the model to make it more steerable and useful when you instruct it to do something. It really shows.I don't know if you all have had a chance to play with GPT4 either in ChatGPT or the Azure OpenAI Service, but what you're able to do with it is really remarkable. There was a time in the past where prompt engineering really was considered an art and it really took a lot of coaxing to get the model to do what you need it to do. Not anymore with GPT4. Just with a few instructions, what you can create with it is fricking phenomenal. All of that is really being used by thousands of customers. I think Scott cited 4,500 customers that are using Azure OpenAI today and really building with it. Coursera is a great example of a customer that is building AI-powered learning experience on our platform to help learners with an interactive learning experience that helps learning be a more personalized journey than one that is generic and crafted, and that's out there and we have to adapt to it.\\n\\n\\n\\nAs we look at this, we see three use cases really emerging. One is where AI is embedded into products we use like search and makes things fundamentally better. Search synthesis as opposed to search results on a page that you have to discern what the right thing is for you, and pretty simple use cases like generating blogs or helping us write emails. The next level above that is what we've seen just over the past few months with ChatGPT, where it's helping novices learn topics that they are not familiar with with a simple QA-based style learning. That really opens the doors for us to become more effective at everything we do by just simply asking the model to help be our Copilot to guide us along a task.\\n\\n\\n\\nThe last part where we're seeing these models really help and emerges to help experts be more efficient at what they do, offloading their tasks and helping the knowledge worker be more effective at what they do. We're seeing that in no other place. Epic Healthcare plays a major role in the healthcare industry, and we're helping them incorporate GPT-4 into electronic health records. They are helping medical professionals use their time more effectively. Another great example of helping the expert is DataRobot. DataRobot, our partner, incorporated Azure OpenAI to help their customer cohort, their customer base of data scientists and ML practitioners be more effective. Machine learning's been out there for a long time. Lots of customers use it in their mission critical applications as part of their workflow and the tasks that they do. What this integration helps customers at DataRobot do is it helps them do their jobs more effectively, it provides data scientists with some analysis which they can go fact check and helps accelerate their journey, helps create more models and put AI into more places.\\n\\n\\n\\nWith this, I'm happy to share a couple of announcements. We talked about the models that are available on the platform. This conference at Build is all about us taking that a step forward, helping you build Copilots along with these technologies. I'm happy to announce four different capabilities. Pablo will talk about one more with Azure Cognitive Search. The first two really help you extend the capability of the models, incorporate your own data, because that's really when it's useful is when you are able to apply your data to it and garner insights from it and help leverage the model to power insights and power your applications. Then the last two which I'll go into are innovations that will really provide you more control over the way you integrate the service into your applications and also a provision throughput, which is a capability for large-scale production applications. Let's dive into it.Another area that I want to share is plugins. We heard about plugins before. What are we doing in Azure OpenAI to help customers leverage plugins? Some of the problems we wanted to tackle with these models is where these models fall short today. They're great with lots and lots of different languages. Probably fall short a little bit in some tier two, tier three languages, and some Asian languages, African languages, etc. OpenAI also has something called the retrieval plugin that talks to multiple vector databases. We wanted to also incorporate that as a first-class thing with Azure OpenAI.\\n\\n\\n\\nLastly, we wanted to tie Azure OpenAI to information on the web so you can ground it with more relevant recent information as that's what's most useful, and build applications on top of all of this. And so happy to introduce Azure OpenAI Service Plugins, where this will be interoperable with all the plugins that OpenAI has, but what we're focused on first is to solve some of these key problems by integrating these Azure services or Microsoft services into our plugins to allow for these models to be extended for you to build applications on these models, extend them out to these various Azure services. All these sources are managed with Azure AD and managed identities, so your application can only access stuff that it's authorized to. Then additionally, because of some of the newness and the potential and learnings in the space, we want to ensure that we provide administrators with the control to only enable plugins that are approved in your enterprise for your Azure OpenAI resources.\\n\\n\\n\\nYou can administer what folks can see and what folks can't see. I'm going to quickly demo this and hopefully, the demo gods smile on me this time. At first, you don't succeed. In Azure OpenAI, I have a new section for plugins where I can enable the stuff. As you can see, I have three plugins enabled: Bing Search, Translator, and Cognitive Search, what Pablo was just demoing, and so I'm going to pretend here that we've built a Copilot that faces Contoso manufacturing corporation, and there's a problem with a part. There's a customer complaint that I'm trying to figure out what the customer is saying and help them resolve it. In this scenario, a customer e-mail came in in Vietnamese, and I don't know if I want to trust the model quality in trying to parse out the customer's concerns, so I want to use Azure Translator, which has really high translation accuracy. I go ahead and send that in and I want to make sure that it not only translates, but the model then acts on the translation to help summarize what are the client's most key concerns. We wait for this to come in.To go from a 10,000 foot level down much lower, let's talk about the API interface that makes this possible today. It's called a chat completions API, which is all encompassing. In the past, you may have been familiar with the completions API, and used the completions API to ask the model, and it's a single question response interface. This one not only does everything the previous API did, but also enables chat, which enables these Copilot-like scenarios. Where, if you look at the code there, it allows for a couple different fields. One is the system field, which is really the system message or, as Kevin talked about, the meta prompt, which you can tailor to tell the model exactly how to behave, what to say, what not to say, what parameters to stay between and really steer the model for your particular application, for your particular use case. Then you can stick any number of examples into the prompt as long as the prompt length goes. Under the role of User and Assistant, you can provide the model with some examples to help steer it. In fact, what we're finding internally is that this paradigm of using the system message and examples in User and Assistant, gets you really a long way than the traditional approaches with using fine tuning where you really have to go low level. You have to train these models with your data. It's a tough mental model and paradigm for us to break where a lot of us in the machine learning field, fine tuning is just a natural thing. You have a base model, you've got to fine-tune it for your particular task, and what we're really seeing is that increasingly, with each generation of model, you're having to do that much less and less where the system message combined with examples that you can put in the prompt, really get you quite a distance.\\n\\n\\n\\nPer all the keynotes and the talk so far, the challenge that we run into is great, the model is fantastic, it has a base level of knowledge, probably trained in 2022 with GPT-4. But it doesn't it doesn't have my context. I want to put my context into the prompt. The prompt length isn't long enough. What do I do? I don't want to have to keep sending the model all these tokens for my entire document at once. The conventional solution that we keep telling customers is build a vector database and at run-time, go find the relevant snippets that pertain to your query, craft your prompt, and run it. Has worked for a lot of customers for quite a while now, but we felt that this was an opportunity to make it easier for customers, and so I'd like to introduce Azure OpenAI on your data.\\n\\n\\n\\nWe've built a really easy way to make it easy for developers to ground Azure OpenAI on your data. You can combine a model like chatGPT, which is GPT 3.5 Turbo or GPT-4 with your own data and build your assistant that reasons over your private data, and it does it securely within your Azure tenant, in your Azure resource, no data is shared with anybody, your data is not used. Again, I'm trying to hammer this point home because it comes from a lot of customers. Your data is not used to improve our systems or train machine learning models, it's all in your own tenant.\\n\\n\\n\\nWe have a number of data sources to start; there, in the top blue, we'll be expanding to a number of additional data sources in the weeks and months to come. Really it is to extend the capability of these models for you to ground it on your own data. Why don't I flip to a demo of what this looks like? You've seen some of this onstage, but I can go into it in a little bit more depth. We all know how live demos go. Keeping my fingers crossed for the demo gods to shine, to smile on us.```\\n\\n\", additional_kwargs={}, example=False)]"
      ]
     },
     "execution_count": 193,
     "metadata": {},
     "output_type": "execute_result"
    }
   ],
   "source": [
    "customer_messages"
   ]
  },
  {
   "cell_type": "code",
   "execution_count": 194,
   "id": "2d377019",
   "metadata": {},
   "outputs": [],
   "source": [
    "summarized_context = chat(customer_messages)"
   ]
  },
  {
   "cell_type": "code",
   "execution_count": 195,
   "id": "1294e4a1",
   "metadata": {},
   "outputs": [
    {
     "data": {
      "text/plain": [
       "\"Microsoft Build: Getting started with generative AI using Azure OpenAI Service\\n\\nDom Divakaruni, Pablo Castro, Jamie Ovenden, Charlotte Wood, Tim Gordon discuss Azure OpenAI, a platform that brings OpenAI's research to life with enterprise security and privacy. Azure OpenAI runs on Azure Machine Learning, a massive-scale AI platform. The latest GPT-4 model from OpenAI achieves human-level text generation and allows for nuanced instructions.\\n\\nAzure OpenAI has been used by thousands of customers, including Coursera, which builds AI-powered learning experiences on the platform. Three emerging use cases include AI embedded in products like search, ChatGPT helping novices learn unfamiliar topics, and AI assisting experts in being more efficient.\\n\\nAnnouncements include four new capabilities: extending the capability of models, incorporating user data, providing more control over service integration, and provision throughput for large-scale production applications. Azure OpenAI Service Plugins are introduced to extend models and build applications on top of various Azure services.\\n\\nAzure OpenAI on your data allows developers to ground Azure OpenAI on their private data securely within their Azure tenant. The chat completions API enables chat and Copilot-like scenarios, with a system message and examples to steer the model for specific applications and use cases.\\n\\nIn summary, Azure OpenAI aims to bring OpenAI's research to life, providing a platform for developers to build applications and Copilots with enterprise security, privacy, and control. The latest GPT-4 model offers human-level text generation, and new capabilities and integrations are being introduced to enhance the platform's offerings.\""
      ]
     },
     "execution_count": 195,
     "metadata": {},
     "output_type": "execute_result"
    }
   ],
   "source": [
    "summarized_context.content"
   ]
  },
  {
   "cell_type": "code",
   "execution_count": 196,
   "id": "171d5152",
   "metadata": {},
   "outputs": [],
   "source": [
    "Context = summarized_context.content"
   ]
  },
  {
   "cell_type": "code",
   "execution_count": null,
   "id": "de043204",
   "metadata": {},
   "outputs": [],
   "source": []
  },
  {
   "cell_type": "code",
   "execution_count": 77,
   "id": "93dc8d43",
   "metadata": {},
   "outputs": [],
   "source": [
    "\n",
    "TASK_SYSTEM_CONTEXT = \"\"\"\n",
    "You are an AI designed to generate datasets needed to train and finetune foundational LLM models.\n",
    "\n",
    "Your job is to create exhaustive question and answer for the provided text content.\n",
    "Your question answer pair should cover the context of text.\n",
    "You should not provide questions and answers specifically about the text as this is part of a document.\n",
    "Your quetions and answers pairs will be combined to create a dataset for a large document.\n",
    "\n",
    "\n",
    "You should ouput questions and answers pair in json format. Ensure the response can be parsed by Python json.loads:\n",
    "\n",
    "\n",
    "\n",
    "\n",
    "You should generate questions and answers solely to cover text content that is delimited by triple backticks.\n",
    "Your generated questions and answer pairs should be suffient to train another LLM about this text content.\n",
    "\n",
    "Questions should cover every bit of text. Questions can be many.\n",
    "\n",
    "text:  ```Beyoncé Giselle Knowles-Carter (/biːˈjɒnseɪ/ bee-YON-say) (born September 4, 1981) is an American singer, songwriter, record producer and actress. Born and raised in Houston, Texas, she performed in various singing and dancing competitions as a child, and rose to fame in the late 1990s as lead singer of R&B girl-group Destiny's Child. Managed by her father, Mathew Knowles, the group became one of the world's best-selling girl groups of all time. Their hiatus saw the release of Beyoncé's debut album, Dangerously in Love (2003), which established her as a solo artist worldwide, earned five Grammy Awards and featured the Billboard Hot 100 number-one singles \"Crazy in Love\" and \"Baby Boy\".```\n",
    "\n",
    "\"\"\"\n",
    "\n",
    "\n",
    "\n",
    "# Make sure the questions are focused on the question types indicated below.\n",
    "# QUESTION TYPE: {questions_types}\n",
    "# You can also use below additional context to imporve your questions and answers.\n",
    "# additional context: {context}\n"
   ]
  },
  {
   "cell_type": "code",
   "execution_count": 78,
   "id": "a20124fc",
   "metadata": {},
   "outputs": [],
   "source": [
    "prompt_template = ChatPromptTemplate.from_template(TASK_SYSTEM_CONTEXT)"
   ]
  },
  {
   "cell_type": "code",
   "execution_count": 79,
   "id": "b253d4d3",
   "metadata": {},
   "outputs": [],
   "source": [
    "customer_messages = prompt_template.format_messages(\n",
    "                    text=docs[1].page_content)\n"
   ]
  },
  {
   "cell_type": "code",
   "execution_count": 80,
   "id": "7458f70f",
   "metadata": {},
   "outputs": [
    {
     "data": {
      "text/plain": [
       "[HumanMessage(content='\\nYou are an AI designed to generate datasets needed to train and finetune foundational LLM models.\\n\\nYour job is to create exhaustive question and answer for the provided text content.\\nYour question answer pair should cover the context of text.\\nYou should not provide questions and answers specifically about the text as this is part of a document.\\nYour quetions and answers pairs will be combined to create a dataset for a large document.\\n\\n\\nYou should ouput questions and answers pair in json format. Ensure the response can be parsed by Python json.loads:\\n\\n\\n\\n\\nYou should generate questions and answers solely to cover text content that is delimited by triple backticks.\\nYour generated questions and answer pairs should be suffient to train another LLM about this text content.\\n\\nQuestions should cover every bit of text. Questions can be many.\\n\\ntext:  ```Beyoncé Giselle Knowles-Carter (/biːˈjɒnseɪ/ bee-YON-say) (born September 4, 1981) is an American singer, songwriter, record producer and actress. Born and raised in Houston, Texas, she performed in various singing and dancing competitions as a child, and rose to fame in the late 1990s as lead singer of R&B girl-group Destiny\\'s Child. Managed by her father, Mathew Knowles, the group became one of the world\\'s best-selling girl groups of all time. Their hiatus saw the release of Beyoncé\\'s debut album, Dangerously in Love (2003), which established her as a solo artist worldwide, earned five Grammy Awards and featured the Billboard Hot 100 number-one singles \"Crazy in Love\" and \"Baby Boy\".```\\n\\n', additional_kwargs={}, example=False)]"
      ]
     },
     "execution_count": 80,
     "metadata": {},
     "output_type": "execute_result"
    }
   ],
   "source": [
    "customer_messages"
   ]
  },
  {
   "cell_type": "code",
   "execution_count": 81,
   "id": "b572942f",
   "metadata": {},
   "outputs": [],
   "source": [
    "customer_response = chat(customer_messages)"
   ]
  },
  {
   "cell_type": "code",
   "execution_count": 82,
   "id": "dde2f9ca",
   "metadata": {
    "scrolled": true
   },
   "outputs": [
    {
     "name": "stdout",
     "output_type": "stream",
     "text": [
      "{\n",
      "  \"questions_answers\": [\n",
      "    {\n",
      "      \"question\": \"What is Beyoncé's full name?\",\n",
      "      \"answer\": \"Beyoncé Giselle Knowles-Carter\"\n",
      "    },\n",
      "    {\n",
      "      \"question\": \"When was Beyoncé born?\",\n",
      "      \"answer\": \"September 4, 1981\"\n",
      "    },\n",
      "    {\n",
      "      \"question\": \"What is Beyoncé's profession?\",\n",
      "      \"answer\": \"American singer, songwriter, record producer and actress\"\n",
      "    },\n",
      "    {\n",
      "      \"question\": \"Where was Beyoncé born and raised?\",\n",
      "      \"answer\": \"Houston, Texas\"\n",
      "    },\n",
      "    {\n",
      "      \"question\": \"What did Beyoncé do as a child?\",\n",
      "      \"answer\": \"She performed in various singing and dancing competitions\"\n",
      "    },\n",
      "    {\n",
      "      \"question\": \"When did Beyoncé rise to fame?\",\n",
      "      \"answer\": \"In the late 1990s\"\n",
      "    },\n",
      "    {\n",
      "      \"question\": \"What was the name of the R&B girl-group Beyoncé was the lead singer of?\",\n",
      "      \"answer\": \"Destiny's Child\"\n",
      "    },\n",
      "    {\n",
      "      \"question\": \"Who managed Destiny's Child?\",\n",
      "      \"answer\": \"Mathew Knowles, Beyoncé's father\"\n",
      "    },\n",
      "    {\n",
      "      \"question\": \"What is the significance of Destiny's Child in the music industry?\",\n",
      "      \"answer\": \"The group became one of the world's best-selling girl groups of all time\"\n",
      "    },\n",
      "    {\n",
      "      \"question\": \"What happened during Destiny's Child's hiatus?\",\n",
      "      \"answer\": \"Beyoncé released her debut album, Dangerously in Love\"\n",
      "    },\n",
      "    {\n",
      "      \"question\": \"When was Dangerously in Love released?\",\n",
      "      \"answer\": \"2003\"\n",
      "    },\n",
      "    {\n",
      "      \"question\": \"What did Dangerously in Love establish for Beyoncé?\",\n",
      "      \"answer\": \"It established her as a solo artist worldwide\"\n",
      "    },\n",
      "    {\n",
      "      \"question\": \"How many Grammy Awards did Dangerously in Love earn?\",\n",
      "      \"answer\": \"Five\"\n",
      "    },\n",
      "    {\n",
      "      \"question\": \"What were the Billboard Hot 100 number-one singles from Dangerously in Love?\",\n",
      "      \"answer\": \"\\\"Crazy in Love\\\" and \\\"Baby Boy\\\"\"\n",
      "    }\n",
      "  ]\n",
      "}\n"
     ]
    }
   ],
   "source": [
    "print(customer_response.content)"
   ]
  },
  {
   "cell_type": "code",
   "execution_count": 159,
   "id": "d4863f7f",
   "metadata": {},
   "outputs": [],
   "source": []
  },
  {
   "cell_type": "code",
   "execution_count": null,
   "id": "24269f60",
   "metadata": {},
   "outputs": [],
   "source": []
  },
  {
   "cell_type": "code",
   "execution_count": 161,
   "id": "b480e860",
   "metadata": {},
   "outputs": [],
   "source": []
  },
  {
   "cell_type": "code",
   "execution_count": null,
   "id": "4e292d0a",
   "metadata": {},
   "outputs": [],
   "source": []
  },
  {
   "cell_type": "code",
   "execution_count": 179,
   "id": "9871739c",
   "metadata": {},
   "outputs": [],
   "source": []
  },
  {
   "cell_type": "code",
   "execution_count": 180,
   "id": "c7eb6afe",
   "metadata": {},
   "outputs": [],
   "source": []
  },
  {
   "cell_type": "code",
   "execution_count": 181,
   "id": "b2d3a856",
   "metadata": {},
   "outputs": [],
   "source": []
  },
  {
   "cell_type": "code",
   "execution_count": null,
   "id": "2c60603a",
   "metadata": {},
   "outputs": [],
   "source": []
  },
  {
   "cell_type": "code",
   "execution_count": 183,
   "id": "e55d27a5",
   "metadata": {},
   "outputs": [],
   "source": []
  },
  {
   "cell_type": "code",
   "execution_count": null,
   "id": "e0c38e23",
   "metadata": {},
   "outputs": [],
   "source": []
  },
  {
   "cell_type": "code",
   "execution_count": null,
   "id": "ce937b5a",
   "metadata": {},
   "outputs": [],
   "source": []
  },
  {
   "cell_type": "code",
   "execution_count": null,
   "id": "9c517001",
   "metadata": {},
   "outputs": [],
   "source": []
  },
  {
   "cell_type": "code",
   "execution_count": null,
   "id": "a59c3b68",
   "metadata": {},
   "outputs": [],
   "source": []
  },
  {
   "cell_type": "code",
   "execution_count": null,
   "id": "718bceff",
   "metadata": {},
   "outputs": [],
   "source": []
  },
  {
   "cell_type": "code",
   "execution_count": null,
   "id": "f014706f",
   "metadata": {},
   "outputs": [],
   "source": []
  },
  {
   "cell_type": "code",
   "execution_count": null,
   "id": "22ee8870",
   "metadata": {},
   "outputs": [],
   "source": []
  },
  {
   "cell_type": "code",
   "execution_count": null,
   "id": "9ff2b6ba",
   "metadata": {},
   "outputs": [],
   "source": []
  },
  {
   "cell_type": "code",
   "execution_count": null,
   "id": "b22dc756",
   "metadata": {},
   "outputs": [],
   "source": []
  },
  {
   "cell_type": "code",
   "execution_count": null,
   "id": "38b87ed9",
   "metadata": {},
   "outputs": [],
   "source": []
  }
 ],
 "metadata": {
  "kernelspec": {
   "display_name": "Python [conda env:auto-gpt-2] *",
   "language": "python",
   "name": "conda-env-auto-gpt-2-py"
  },
  "language_info": {
   "codemirror_mode": {
    "name": "ipython",
    "version": 3
   },
   "file_extension": ".py",
   "mimetype": "text/x-python",
   "name": "python",
   "nbconvert_exporter": "python",
   "pygments_lexer": "ipython3",
   "version": "3.10.0"
  }
 },
 "nbformat": 4,
 "nbformat_minor": 5
}
